{
 "cells": [
  {
   "cell_type": "code",
   "execution_count": 1,
   "id": "ae87dbf2",
   "metadata": {},
   "outputs": [
    {
     "name": "stdout",
     "output_type": "stream",
     "text": [
      "Requirement already satisfied: selenium in c:\\users\\acer\\anaconda3\\lib\\site-packages (4.1.0)\n",
      "Requirement already satisfied: urllib3[secure]~=1.26 in c:\\users\\acer\\anaconda3\\lib\\site-packages (from selenium) (1.26.4)\n",
      "Requirement already satisfied: trio-websocket~=0.9 in c:\\users\\acer\\anaconda3\\lib\\site-packages (from selenium) (0.9.2)\n",
      "Requirement already satisfied: trio~=0.17 in c:\\users\\acer\\anaconda3\\lib\\site-packages (from selenium) (0.19.0)\n",
      "Requirement already satisfied: async-generator>=1.9 in c:\\users\\acer\\anaconda3\\lib\\site-packages (from trio~=0.17->selenium) (1.10)\n",
      "Requirement already satisfied: outcome in c:\\users\\acer\\anaconda3\\lib\\site-packages (from trio~=0.17->selenium) (1.1.0)\n",
      "Requirement already satisfied: idna in c:\\users\\acer\\anaconda3\\lib\\site-packages (from trio~=0.17->selenium) (2.10)\n",
      "Requirement already satisfied: sortedcontainers in c:\\users\\acer\\anaconda3\\lib\\site-packages (from trio~=0.17->selenium) (2.3.0)\n",
      "Requirement already satisfied: sniffio in c:\\users\\acer\\anaconda3\\lib\\site-packages (from trio~=0.17->selenium) (1.2.0)\n",
      "Requirement already satisfied: cffi>=1.14 in c:\\users\\acer\\anaconda3\\lib\\site-packages (from trio~=0.17->selenium) (1.14.5)\n",
      "Requirement already satisfied: attrs>=19.2.0 in c:\\users\\acer\\anaconda3\\lib\\site-packages (from trio~=0.17->selenium) (20.3.0)\n",
      "Requirement already satisfied: pycparser in c:\\users\\acer\\anaconda3\\lib\\site-packages (from cffi>=1.14->trio~=0.17->selenium) (2.20)\n",
      "Requirement already satisfied: wsproto>=0.14 in c:\\users\\acer\\anaconda3\\lib\\site-packages (from trio-websocket~=0.9->selenium) (1.0.0)\n",
      "Requirement already satisfied: pyOpenSSL>=0.14 in c:\\users\\acer\\anaconda3\\lib\\site-packages (from urllib3[secure]~=1.26->selenium) (20.0.1)\n",
      "Requirement already satisfied: certifi in c:\\users\\acer\\anaconda3\\lib\\site-packages (from urllib3[secure]~=1.26->selenium) (2020.12.5)\n",
      "Requirement already satisfied: cryptography>=1.3.4 in c:\\users\\acer\\anaconda3\\lib\\site-packages (from urllib3[secure]~=1.26->selenium) (3.4.7)\n",
      "Requirement already satisfied: six>=1.5.2 in c:\\users\\acer\\anaconda3\\lib\\site-packages (from pyOpenSSL>=0.14->urllib3[secure]~=1.26->selenium) (1.15.0)\n",
      "Requirement already satisfied: h11<1,>=0.9.0 in c:\\users\\acer\\anaconda3\\lib\\site-packages (from wsproto>=0.14->trio-websocket~=0.9->selenium) (0.13.0)\n"
     ]
    }
   ],
   "source": [
    "!pip install selenium\n",
    "\n",
    "import selenium\n",
    "\n",
    "from selenium import webdriver\n",
    "import pandas as pd\n",
    "import warnings\n",
    "warnings.filterwarnings(\"ignore\")"
   ]
  },
  {
   "cell_type": "code",
   "execution_count": 72,
   "id": "e0c6eba2",
   "metadata": {},
   "outputs": [],
   "source": [
    "from selenium import webdriver\n",
    "\n",
    "path ='E:\\chromedriver.exe' \n",
    "driver = webdriver.Chrome(path)\n",
    "\n",
    "driver.get(\"https://www.flipkart.com/\")"
   ]
  },
  {
   "cell_type": "code",
   "execution_count": 73,
   "id": "2f0377f2",
   "metadata": {},
   "outputs": [
    {
     "data": {
      "text/plain": [
       "<selenium.webdriver.remote.webelement.WebElement (session=\"ce1ab8be463ba6d04a340b695a536ff8\", element=\"9b55d7bc-9e3d-429e-be6c-41704caec42a\")>"
      ]
     },
     "execution_count": 73,
     "metadata": {},
     "output_type": "execute_result"
    }
   ],
   "source": [
    "search_pdt=driver.find_element_by_class_name(\"_3704LK\")\n",
    "search_pdt"
   ]
  },
  {
   "cell_type": "code",
   "execution_count": 74,
   "id": "e8127857",
   "metadata": {},
   "outputs": [],
   "source": [
    "search_pdt.send_keys(\"sunglasses\")"
   ]
  },
  {
   "cell_type": "code",
   "execution_count": 75,
   "id": "241eb9a2",
   "metadata": {},
   "outputs": [
    {
     "data": {
      "text/plain": [
       "<selenium.webdriver.remote.webelement.WebElement (session=\"ce1ab8be463ba6d04a340b695a536ff8\", element=\"3db23369-7e15-4b31-a892-f7460fc42bc0\")>"
      ]
     },
     "execution_count": 75,
     "metadata": {},
     "output_type": "execute_result"
    }
   ],
   "source": [
    "search_btn=driver.find_element_by_class_name(\"L0Z3Pu\")\n",
    "\n",
    "search_btn"
   ]
  },
  {
   "cell_type": "code",
   "execution_count": 76,
   "id": "ee9de7ce",
   "metadata": {},
   "outputs": [],
   "source": [
    "search_btn.click()"
   ]
  },
  {
   "cell_type": "code",
   "execution_count": 77,
   "id": "33c87ade",
   "metadata": {},
   "outputs": [
    {
     "data": {
      "text/plain": [
       "40"
      ]
     },
     "execution_count": 77,
     "metadata": {},
     "output_type": "execute_result"
    }
   ],
   "source": [
    "brand_tags=driver.find_elements_by_class_name(\"_2WkVRV\")\n",
    "\n",
    "len(brand_tags)"
   ]
  },
  {
   "cell_type": "code",
   "execution_count": 78,
   "id": "681205f9",
   "metadata": {},
   "outputs": [
    {
     "data": {
      "text/plain": [
       "40"
      ]
     },
     "execution_count": 78,
     "metadata": {},
     "output_type": "execute_result"
    }
   ],
   "source": [
    "Brand = []\n",
    "\n",
    "for i in brand_tags:\n",
    "    Brand.append(i.text)\n",
    "    \n",
    "len(Brand)"
   ]
  },
  {
   "cell_type": "code",
   "execution_count": 79,
   "id": "11a2e4cc",
   "metadata": {},
   "outputs": [
    {
     "data": {
      "text/plain": [
       "['ROZZETTA CRAFT',\n",
       " 'VINCENT CHASE',\n",
       " 'Elligator',\n",
       " 'Fastrack',\n",
       " 'SHAAH COLLECTIONS',\n",
       " 'SUNBEE',\n",
       " 'SRPM',\n",
       " 'VINCENT CHASE',\n",
       " 'SUNBEE',\n",
       " 'New Specs',\n",
       " 'kingsunglasses',\n",
       " 'elegante',\n",
       " 'Fastrack',\n",
       " 'PIRASO',\n",
       " 'PIRASO',\n",
       " 'VINCENT CHASE',\n",
       " 'Elligator',\n",
       " 'SHAAH COLLECTIONS',\n",
       " 'PHENOMENAL',\n",
       " 'VINCENT CHASE',\n",
       " 'PHENOMENAL',\n",
       " 'Elligator',\n",
       " 'ROZZETTA CRAFT',\n",
       " 'VINCENT CHASE',\n",
       " 'PHENOMENAL',\n",
       " 'PHENOMENAL',\n",
       " 'Lee Topper',\n",
       " 'ROZZETTA CRAFT',\n",
       " 'PIRASO',\n",
       " 'SUNBEE',\n",
       " 'New Specs',\n",
       " 'ROZZETTA CRAFT',\n",
       " 'GANSTA',\n",
       " 'kingsunglasses',\n",
       " 'PIRASO',\n",
       " 'VINCENT CHASE',\n",
       " 'PIRASO',\n",
       " 'Singco India',\n",
       " 'Rich Club',\n",
       " 'VINCENT CHASE']"
      ]
     },
     "execution_count": 79,
     "metadata": {},
     "output_type": "execute_result"
    }
   ],
   "source": [
    "Brand"
   ]
  },
  {
   "cell_type": "code",
   "execution_count": 80,
   "id": "a8bbf887",
   "metadata": {},
   "outputs": [
    {
     "data": {
      "text/plain": [
       "40"
      ]
     },
     "execution_count": 80,
     "metadata": {},
     "output_type": "execute_result"
    }
   ],
   "source": [
    "price_tags=driver.find_elements_by_class_name(\"_3bPFwb\")\n",
    "\n",
    "len(price_tags)"
   ]
  },
  {
   "cell_type": "code",
   "execution_count": 81,
   "id": "9f3f93b0",
   "metadata": {},
   "outputs": [
    {
     "data": {
      "text/plain": [
       "40"
      ]
     },
     "execution_count": 81,
     "metadata": {},
     "output_type": "execute_result"
    }
   ],
   "source": [
    "description_tags=driver.find_elements_by_class_name(\"IRpwTa\")\n",
    "\n",
    "len(description_tags)"
   ]
  },
  {
   "cell_type": "code",
   "execution_count": 82,
   "id": "c34c7859",
   "metadata": {},
   "outputs": [
    {
     "data": {
      "text/plain": [
       "40"
      ]
     },
     "execution_count": 82,
     "metadata": {},
     "output_type": "execute_result"
    }
   ],
   "source": [
    "Price = []\n",
    "\n",
    "for i in price_tags:\n",
    "    Price.append(i.text)\n",
    "    \n",
    "len(Price)"
   ]
  },
  {
   "cell_type": "code",
   "execution_count": 83,
   "id": "349263c3",
   "metadata": {},
   "outputs": [
    {
     "data": {
      "text/plain": [
       "['₹331₹1,99983% off',\n",
       " '₹1,533₹2,50038% off\\nFree delivery',\n",
       " '₹248₹2,49590% off',\n",
       " '₹639₹79920% off\\nFree delivery',\n",
       " '₹165₹1,69990% off',\n",
       " '₹243₹1,29981% off',\n",
       " '₹188₹1,29985% off',\n",
       " '₹1,415₹1,99929% off\\nFree delivery',\n",
       " '₹271₹1,69984% off',\n",
       " '₹239₹1,99988% off',\n",
       " '₹178₹99982% off',\n",
       " '₹389₹1,49974% off',\n",
       " '₹549₹79931% off\\nFree delivery',\n",
       " '₹229₹1,59985% off',\n",
       " '₹225₹1,59985% off',\n",
       " '₹1,179₹1,99941% off\\nFree delivery',\n",
       " '₹189₹1,49787% off',\n",
       " '₹181₹99981% off',\n",
       " '₹299₹1,99985% off',\n",
       " '₹1,533₹2,50038% off\\nFree delivery',\n",
       " '₹259₹99974% off',\n",
       " '₹265₹1,29979% off',\n",
       " '₹383₹1,99980% off',\n",
       " '₹1,415₹2,50043% off\\nFree delivery',\n",
       " '₹299₹1,99985% off',\n",
       " '₹309₹1,99984% off',\n",
       " '₹199₹99980% off',\n",
       " '₹616₹2,55575% off\\nFree delivery',\n",
       " '₹225₹1,59985% off',\n",
       " '₹235₹1,29981% off',\n",
       " '₹259₹1,39981% off',\n",
       " '₹426₹2,22580% off',\n",
       " '₹269₹1,99986% off',\n",
       " '₹229₹1,99988% off',\n",
       " '₹225₹1,59985% off',\n",
       " '₹1,533₹2,50038% off\\nFree delivery',\n",
       " '₹299₹1,59981% off',\n",
       " '₹229₹69967% off',\n",
       " '₹165₹49966% off',\n",
       " '₹1,415₹2,50043% off\\nFree delivery']"
      ]
     },
     "execution_count": 83,
     "metadata": {},
     "output_type": "execute_result"
    }
   ],
   "source": [
    "Price"
   ]
  },
  {
   "cell_type": "code",
   "execution_count": 84,
   "id": "9cc1417e",
   "metadata": {},
   "outputs": [
    {
     "data": {
      "text/plain": [
       "40"
      ]
     },
     "execution_count": 84,
     "metadata": {},
     "output_type": "execute_result"
    }
   ],
   "source": [
    "Description = []\n",
    "\n",
    "for i in description_tags:\n",
    "    Description.append(i.text)\n",
    "    \n",
    "len(Description)"
   ]
  },
  {
   "cell_type": "code",
   "execution_count": 85,
   "id": "cf8a599f",
   "metadata": {},
   "outputs": [
    {
     "data": {
      "text/plain": [
       "['UV Protection, Gradient Retro Square Sunglasses (Free S...',\n",
       " 'by Lenskart Polarized, UV Protection Wayfarer Sunglasse...',\n",
       " 'UV Protection Round Sunglasses (54)',\n",
       " 'UV Protection Rectangular Sunglasses (Free Size)',\n",
       " 'UV Protection, Polarized, Mirrored Rectangular Sunglass...',\n",
       " 'UV Protection, Polarized Wayfarer Sunglasses (Free Size...',\n",
       " 'UV Protection Wayfarer Sunglasses (50)',\n",
       " 'by Lenskart Polarized, UV Protection Round Sunglasses (...',\n",
       " 'UV Protection, Polarized, Mirrored Round Sunglasses (Fr...',\n",
       " 'UV Protection Rectangular Sunglasses (Free Size)',\n",
       " 'UV Protection Round Sunglasses (54)',\n",
       " 'UV Protection Oval Sunglasses (Free Size)',\n",
       " 'Gradient, UV Protection Wayfarer Sunglasses (Free Size)',\n",
       " 'UV Protection Aviator Sunglasses (54)',\n",
       " 'UV Protection Aviator Sunglasses (54)',\n",
       " 'by Lenskart Polarized, UV Protection Wayfarer Sunglasse...',\n",
       " 'UV Protection Round Sunglasses (53)',\n",
       " 'UV Protection, Polarized, Mirrored Rectangular Sunglass...',\n",
       " 'UV Protection, Mirrored Retro Square Sunglasses (53)',\n",
       " 'by Lenskart Polarized, UV Protection Wayfarer Sunglasse...',\n",
       " 'UV Protection Retro Square Sunglasses (53)',\n",
       " 'UV Protection Round Sunglasses (54)',\n",
       " 'UV Protection, Gradient Rectangular Sunglasses (Free Si...',\n",
       " 'by Lenskart Polarized, UV Protection Wayfarer Sunglasse...',\n",
       " 'UV Protection, Mirrored Retro Square Sunglasses (53)',\n",
       " 'UV Protection Retro Square Sunglasses (Free Size)',\n",
       " 'UV Protection Rectangular Sunglasses (Free Size)',\n",
       " 'UV Protection Aviator Sunglasses (Free Size)',\n",
       " 'UV Protection Aviator Sunglasses (54)',\n",
       " 'UV Protection, Polarized, Mirrored Retro Square Sunglas...',\n",
       " 'Mirrored, UV Protection, Riding Glasses, Others Round S...',\n",
       " 'UV Protection, Riding Glasses Rectangular Sunglasses (F...',\n",
       " 'UV Protection Aviator Sunglasses (57)',\n",
       " 'Mirrored, UV Protection Wayfarer Sunglasses (Free Size)',\n",
       " 'UV Protection Wayfarer Sunglasses (32)',\n",
       " 'by Lenskart Polarized, UV Protection Wayfarer Sunglasse...',\n",
       " 'UV Protection Aviator Sunglasses (Free Size)',\n",
       " 'UV Protection, Riding Glasses, Others Aviator, Wayfarer...',\n",
       " 'Polarized Round Sunglasses (48)',\n",
       " 'by Lenskart Polarized, UV Protection Round Sunglasses (...']"
      ]
     },
     "execution_count": 85,
     "metadata": {},
     "output_type": "execute_result"
    }
   ],
   "source": [
    "Description"
   ]
  },
  {
   "cell_type": "code",
   "execution_count": 86,
   "id": "d9477398",
   "metadata": {},
   "outputs": [
    {
     "data": {
      "text/plain": [
       "<selenium.webdriver.remote.webelement.WebElement (session=\"ce1ab8be463ba6d04a340b695a536ff8\", element=\"c5b4b33b-7795-4745-bc28-2712105c99af\")>"
      ]
     },
     "execution_count": 86,
     "metadata": {},
     "output_type": "execute_result"
    }
   ],
   "source": [
    "next_btn=driver.find_element_by_xpath('/html/body/div[1]/div/div[3]/div[1]/div[2]/div[12]/div/div/nav/a[11]')\n",
    "\n",
    "next_btn"
   ]
  },
  {
   "cell_type": "code",
   "execution_count": 87,
   "id": "d6fa2a8e",
   "metadata": {},
   "outputs": [],
   "source": [
    "next_btn.click()"
   ]
  },
  {
   "cell_type": "code",
   "execution_count": 93,
   "id": "e1b48c6e",
   "metadata": {},
   "outputs": [
    {
     "data": {
      "text/plain": [
       "40"
      ]
     },
     "execution_count": 93,
     "metadata": {},
     "output_type": "execute_result"
    }
   ],
   "source": [
    "brand1_tags=driver.find_elements_by_class_name(\"_2WkVRV\")\n",
    "\n",
    "len(brand1_tags)"
   ]
  },
  {
   "cell_type": "code",
   "execution_count": 98,
   "id": "8e07d9d9",
   "metadata": {},
   "outputs": [
    {
     "data": {
      "text/plain": [
       "40"
      ]
     },
     "execution_count": 98,
     "metadata": {},
     "output_type": "execute_result"
    }
   ],
   "source": [
    "price1_tags=driver.find_elements_by_class_name(\"_3bPFwb\")\n",
    "\n",
    "len(price1_tags)"
   ]
  },
  {
   "cell_type": "code",
   "execution_count": 101,
   "id": "3e704453",
   "metadata": {},
   "outputs": [
    {
     "data": {
      "text/plain": [
       "40"
      ]
     },
     "execution_count": 101,
     "metadata": {},
     "output_type": "execute_result"
    }
   ],
   "source": [
    "description1_tags=driver.find_elements_by_class_name(\"IRpwTa\")\n",
    "\n",
    "len(description1_tags)"
   ]
  },
  {
   "cell_type": "code",
   "execution_count": 94,
   "id": "557c0018",
   "metadata": {},
   "outputs": [
    {
     "data": {
      "text/plain": [
       "40"
      ]
     },
     "execution_count": 94,
     "metadata": {},
     "output_type": "execute_result"
    }
   ],
   "source": [
    "Brand1=[]\n",
    "\n",
    "for i in brand1_tags:\n",
    "    Brand1.append(i.text)\n",
    "    \n",
    "len(Brand1)"
   ]
  },
  {
   "cell_type": "code",
   "execution_count": 95,
   "id": "039f788a",
   "metadata": {},
   "outputs": [
    {
     "data": {
      "text/plain": [
       "['Elligator',\n",
       " 'ROZZETTA CRAFT',\n",
       " 'Singco India',\n",
       " 'AISLIN',\n",
       " 'kingsunglasses',\n",
       " 'maxa',\n",
       " 'DEIXELS',\n",
       " 'VINCENT CHASE',\n",
       " 'DEIXELS',\n",
       " 'SRPM',\n",
       " 'kingsunglasses',\n",
       " 'Singco India',\n",
       " 'kingsunglasses',\n",
       " 'kingsunglasses',\n",
       " 'Elligator',\n",
       " 'VINCENT CHASE',\n",
       " 'agera',\n",
       " 'Fastrack',\n",
       " 'Silver Kartz',\n",
       " 'elegante',\n",
       " 'New Specs',\n",
       " 'kingsunglasses',\n",
       " 'Fastrack',\n",
       " 'AISLIN',\n",
       " 'ROYAL SON',\n",
       " 'PIRASO',\n",
       " 'hipe',\n",
       " 'elegante',\n",
       " 'ROYAL SON',\n",
       " 'kingsunglasses',\n",
       " 'Singco India',\n",
       " 'ROYAL SON',\n",
       " 'Rich Club',\n",
       " 'Rich Club',\n",
       " 'Johaena',\n",
       " 'AISLIN',\n",
       " 'ROYAL SON',\n",
       " 'Elligator',\n",
       " 'Silver Kartz',\n",
       " 'VINCENT CHASE']"
      ]
     },
     "execution_count": 95,
     "metadata": {},
     "output_type": "execute_result"
    }
   ],
   "source": [
    "Brand1"
   ]
  },
  {
   "cell_type": "code",
   "execution_count": 99,
   "id": "398a618c",
   "metadata": {},
   "outputs": [
    {
     "data": {
      "text/plain": [
       "40"
      ]
     },
     "execution_count": 99,
     "metadata": {},
     "output_type": "execute_result"
    }
   ],
   "source": [
    "Price1=[]\n",
    "\n",
    "for i in price1_tags:\n",
    "    Price1.append(i.text)\n",
    "len(Price1)"
   ]
  },
  {
   "cell_type": "code",
   "execution_count": 100,
   "id": "a5a966df",
   "metadata": {},
   "outputs": [
    {
     "data": {
      "text/plain": [
       "['₹230₹1,99688% off',\n",
       " '₹474₹1,99976% off',\n",
       " '₹225₹1,49984% off',\n",
       " '₹611₹3,20080% off\\nFree delivery',\n",
       " '₹274₹1,59982% off',\n",
       " '₹144₹69979% off',\n",
       " '₹202₹1,19983% off',\n",
       " '₹1,179₹1,99941% off\\nFree delivery',\n",
       " '₹199₹49960% off',\n",
       " '₹207₹99879% off',\n",
       " '₹177₹1,19985% off',\n",
       " '₹299₹2,49988% off',\n",
       " '₹209₹1,29983% off',\n",
       " '₹172₹1,09984% off',\n",
       " '₹291₹1,99985% off',\n",
       " '₹1,415₹1,99929% off\\nFree delivery',\n",
       " '₹196₹1,14982% off',\n",
       " '₹639₹79920% off\\nFree delivery',\n",
       " '₹255₹1,19978% off',\n",
       " '₹399₹1,49973% off',\n",
       " '₹232₹1,29982% off',\n",
       " '₹170₹1,29986% off',\n",
       " '₹599₹89933% off\\nFree delivery',\n",
       " '₹404₹3,20087% off',\n",
       " '₹359₹1,49976% off',\n",
       " '₹349₹2,59986% off',\n",
       " '₹189₹1,46687% off',\n",
       " '₹399₹1,49973% off',\n",
       " '₹449₹1,49970% off',\n",
       " '₹174₹99982% off',\n",
       " '₹664₹2,99977% off\\nFree delivery',\n",
       " '₹664₹1,99966% off\\nFree delivery',\n",
       " '₹152₹49969% off',\n",
       " '₹220₹79972% off',\n",
       " '₹156₹1,28887% off',\n",
       " '₹462₹2,47581% off',\n",
       " '₹449₹1,49970% off',\n",
       " '₹263₹1,49582% off',\n",
       " '₹284₹1,19976% off',\n",
       " '₹1,415₹1,99929% off\\nFree delivery']"
      ]
     },
     "execution_count": 100,
     "metadata": {},
     "output_type": "execute_result"
    }
   ],
   "source": [
    "Price1"
   ]
  },
  {
   "cell_type": "code",
   "execution_count": 102,
   "id": "99d1f428",
   "metadata": {},
   "outputs": [
    {
     "data": {
      "text/plain": [
       "40"
      ]
     },
     "execution_count": 102,
     "metadata": {},
     "output_type": "execute_result"
    }
   ],
   "source": [
    "Description1=[]\n",
    "\n",
    "for i in description1_tags:\n",
    "    Description1.append(i.text)\n",
    "\n",
    "len(Description1)"
   ]
  },
  {
   "cell_type": "code",
   "execution_count": 103,
   "id": "40079376",
   "metadata": {},
   "outputs": [
    {
     "data": {
      "text/plain": [
       "['UV Protection Round Sunglasses (50)',\n",
       " 'Polarized, Night Vision, Riding Glasses Sports, Wrap-ar...',\n",
       " 'Riding Glasses, UV Protection, Others Aviator Sunglasse...',\n",
       " 'UV Protection, Gradient Wayfarer, Round Sunglasses (63)',\n",
       " 'UV Protection Round Sunglasses (Free Size)',\n",
       " 'UV Protection, Riding Glasses Rectangular, Wayfarer, Ov...',\n",
       " 'UV Protection Aviator, Wayfarer Sunglasses (Free Size)',\n",
       " 'by Lenskart UV Protection Wayfarer Sunglasses (49)',\n",
       " 'UV Protection Wayfarer Sunglasses (Free Size)',\n",
       " 'UV Protection Wayfarer Sunglasses (53)',\n",
       " 'UV Protection, Riding Glasses, Mirrored Wayfarer Sungla...',\n",
       " 'UV Protection, Riding Glasses, Others Wayfarer, Retro S...',\n",
       " 'Mirrored, UV Protection Aviator Sunglasses (56)',\n",
       " 'UV Protection Rectangular Sunglasses (Free Size)',\n",
       " 'UV Protection Retro Square, Round Sunglasses (54)',\n",
       " 'by Lenskart Polarized, UV Protection Wayfarer Sunglasse...',\n",
       " 'Gradient Aviator Sunglasses (55)',\n",
       " 'UV Protection Wayfarer Sunglasses (Free Size)',\n",
       " 'UV Protection Aviator Sunglasses (88)',\n",
       " 'UV Protection Wayfarer Sunglasses (Free Size)',\n",
       " 'UV Protection Round Sunglasses (Free Size)',\n",
       " 'UV Protection Round Sunglasses (Free Size)',\n",
       " 'UV Protection Shield Sunglasses (Free Size)',\n",
       " 'UV Protection Wayfarer Sunglasses (57)',\n",
       " 'Mirrored Aviator Sunglasses (55)',\n",
       " 'UV Protection Butterfly Sunglasses (65)',\n",
       " 'Mirrored, UV Protection, Gradient Round Sunglasses (55)',\n",
       " 'UV Protection Over-sized Sunglasses (Free Size)',\n",
       " 'UV Protection Rectangular Sunglasses (58)',\n",
       " 'UV Protection, Others Round, Aviator Sunglasses (54)',\n",
       " 'Gradient, Toughened Glass Lens, UV Protection Retro Squ...',\n",
       " 'UV Protection, Gradient Butterfly Sunglasses (55)',\n",
       " 'Polarized Round Sunglasses (48)',\n",
       " 'UV Protection Round Sunglasses (48)',\n",
       " 'Riding Glasses, UV Protection Oval Sunglasses (52)',\n",
       " 'UV Protection Rectangular, Cat-eye Sunglasses (58)',\n",
       " 'UV Protection Retro Square Sunglasses (58)',\n",
       " 'UV Protection, Gradient Aviator Sunglasses (50)',\n",
       " 'UV Protection Oval Sunglasses (56)',\n",
       " 'by Lenskart UV Protection Round Sunglasses (48)']"
      ]
     },
     "execution_count": 103,
     "metadata": {},
     "output_type": "execute_result"
    }
   ],
   "source": [
    "Description1"
   ]
  },
  {
   "cell_type": "code",
   "execution_count": 104,
   "id": "c80996ac",
   "metadata": {},
   "outputs": [
    {
     "data": {
      "text/plain": [
       "<selenium.webdriver.remote.webelement.WebElement (session=\"ce1ab8be463ba6d04a340b695a536ff8\", element=\"c5b4b33b-7795-4745-bc28-2712105c99af\")>"
      ]
     },
     "execution_count": 104,
     "metadata": {},
     "output_type": "execute_result"
    }
   ],
   "source": [
    "next_btn=driver.find_element_by_xpath('/html/body/div[1]/div/div[3]/div[1]/div[2]/div[12]/div/div/nav/a[12]')\n",
    "\n",
    "next_btn"
   ]
  },
  {
   "cell_type": "code",
   "execution_count": 105,
   "id": "525baf15",
   "metadata": {},
   "outputs": [],
   "source": [
    "next_btn.click()"
   ]
  },
  {
   "cell_type": "code",
   "execution_count": 106,
   "id": "3f9cce65",
   "metadata": {},
   "outputs": [
    {
     "data": {
      "text/plain": [
       "40"
      ]
     },
     "execution_count": 106,
     "metadata": {},
     "output_type": "execute_result"
    }
   ],
   "source": [
    "brand2_tags=driver.find_elements_by_class_name(\"_2WkVRV\")\n",
    "\n",
    "len(brand2_tags)"
   ]
  },
  {
   "cell_type": "code",
   "execution_count": 107,
   "id": "9e4eace5",
   "metadata": {},
   "outputs": [
    {
     "data": {
      "text/plain": [
       "40"
      ]
     },
     "execution_count": 107,
     "metadata": {},
     "output_type": "execute_result"
    }
   ],
   "source": [
    "price2_tags=driver.find_elements_by_class_name(\"_3bPFwb\")\n",
    "\n",
    "len(price2_tags)"
   ]
  },
  {
   "cell_type": "code",
   "execution_count": 108,
   "id": "bd586a21",
   "metadata": {},
   "outputs": [
    {
     "data": {
      "text/plain": [
       "40"
      ]
     },
     "execution_count": 108,
     "metadata": {},
     "output_type": "execute_result"
    }
   ],
   "source": [
    "description2_tags=driver.find_elements_by_class_name(\"IRpwTa\")\n",
    "\n",
    "len(description2_tags)"
   ]
  },
  {
   "cell_type": "code",
   "execution_count": 109,
   "id": "20cf813e",
   "metadata": {},
   "outputs": [
    {
     "data": {
      "text/plain": [
       "40"
      ]
     },
     "execution_count": 109,
     "metadata": {},
     "output_type": "execute_result"
    }
   ],
   "source": [
    "Brand2 = []\n",
    "\n",
    "for i in brand2_tags:\n",
    "    Brand2.append(i.text)\n",
    "    \n",
    "len(Brand2)"
   ]
  },
  {
   "cell_type": "code",
   "execution_count": 110,
   "id": "507064b3",
   "metadata": {},
   "outputs": [
    {
     "data": {
      "text/plain": [
       "['kingsunglasses',\n",
       " 'Fastrack',\n",
       " 'ROYAL SON',\n",
       " 'elegante',\n",
       " 'New Specs',\n",
       " 'Fastrack',\n",
       " 'PHENOMENAL',\n",
       " 'VINCENT CHASE',\n",
       " 'Fastrack',\n",
       " 'ROYAL SON',\n",
       " 'ROZZETTA CRAFT',\n",
       " 'Singco India',\n",
       " 'Lee Topper',\n",
       " 'GANSTA',\n",
       " 'New Specs',\n",
       " 'ROZZETTA CRAFT',\n",
       " 'PIRASO',\n",
       " 'PHENOMENAL',\n",
       " 'Poloport',\n",
       " 'VINCENT CHASE',\n",
       " 'Fastrack',\n",
       " 'SRPM',\n",
       " 'ROZZETTA CRAFT',\n",
       " 'VILLAIN',\n",
       " 'Silver Kartz',\n",
       " 'ROZZETTA CRAFT',\n",
       " 'PIRASO',\n",
       " 'VINCENT CHASE',\n",
       " 'Fastrack',\n",
       " 'GANSTA',\n",
       " 'Lee Topper',\n",
       " 'ROZZETTA CRAFT',\n",
       " 'Elligator',\n",
       " 'Rich Club',\n",
       " 'ROZZETTA CRAFT',\n",
       " 'AISLIN',\n",
       " 'Johaena',\n",
       " 'Lee Topper',\n",
       " 'Urbanic',\n",
       " 'VINCENT CHASE']"
      ]
     },
     "execution_count": 110,
     "metadata": {},
     "output_type": "execute_result"
    }
   ],
   "source": [
    "Brand2"
   ]
  },
  {
   "cell_type": "code",
   "execution_count": 111,
   "id": "a27b40a7",
   "metadata": {},
   "outputs": [
    {
     "data": {
      "text/plain": [
       "40"
      ]
     },
     "execution_count": 111,
     "metadata": {},
     "output_type": "execute_result"
    }
   ],
   "source": [
    "Price2 = []\n",
    "\n",
    "for i in price2_tags:\n",
    "    Price2.append(i.text)\n",
    "    \n",
    "len(Price2)"
   ]
  },
  {
   "cell_type": "code",
   "execution_count": 112,
   "id": "17effb1e",
   "metadata": {},
   "outputs": [
    {
     "data": {
      "text/plain": [
       "['₹246₹1,99987% off',\n",
       " '₹999₹1,29923% off\\nFree delivery',\n",
       " '₹359₹1,49976% off',\n",
       " '₹389₹1,49974% off',\n",
       " '₹156₹1,59990% off',\n",
       " '₹639₹79920% off\\nFree delivery',\n",
       " '₹289₹1,99885% off',\n",
       " '₹1,179₹1,99941% off\\nFree delivery',\n",
       " '₹639₹79920% off\\nFree delivery',\n",
       " '₹664₹1,99966% off\\nFree delivery',\n",
       " '₹330₹2,25685% off',\n",
       " '₹229₹69967% off',\n",
       " '₹276₹2,49988% off',\n",
       " '₹204₹1,04980% off',\n",
       " '₹175₹1,59989% off',\n",
       " '₹616₹2,55575% off\\nFree delivery',\n",
       " '₹299₹2,59988% off',\n",
       " '₹289₹1,99885% off',\n",
       " '₹236₹1,92087% off',\n",
       " '₹1,415₹2,50043% off\\nFree delivery',\n",
       " '₹639₹89928% off\\nFree delivery',\n",
       " '₹199₹99980% off',\n",
       " '₹331₹1,99983% off',\n",
       " '₹1,099₹1,74937% off\\nFree delivery',\n",
       " '₹246₹1,49983% off',\n",
       " '₹342₹1,99982% off',\n",
       " '₹299₹2,59988% off',\n",
       " '₹1,533₹2,50038% off\\nFree delivery',\n",
       " '₹639₹79920% off\\nFree delivery',\n",
       " '₹198₹1,79988% off',\n",
       " '₹299₹99970% off',\n",
       " '₹426₹2,22580% off',\n",
       " '₹167₹1,49788% off',\n",
       " '₹220₹79972% off',\n",
       " '₹474₹2,22578% off',\n",
       " '₹611₹3,20080% off\\nFree delivery',\n",
       " '₹156₹1,29987% off',\n",
       " '₹281₹1,29978% off',\n",
       " '₹419₹79046% off',\n",
       " '₹1,179₹1,99941% off\\nFree delivery']"
      ]
     },
     "execution_count": 112,
     "metadata": {},
     "output_type": "execute_result"
    }
   ],
   "source": [
    "Price2"
   ]
  },
  {
   "cell_type": "code",
   "execution_count": 113,
   "id": "9d6bece2",
   "metadata": {},
   "outputs": [
    {
     "data": {
      "text/plain": [
       "40"
      ]
     },
     "execution_count": 113,
     "metadata": {},
     "output_type": "execute_result"
    }
   ],
   "source": [
    "Description2=[]\n",
    "\n",
    "for i in description2_tags:\n",
    "    Description2.append(i.text)\n",
    "    \n",
    "len(Description2)"
   ]
  },
  {
   "cell_type": "code",
   "execution_count": 114,
   "id": "0dba6db3",
   "metadata": {},
   "outputs": [
    {
     "data": {
      "text/plain": [
       "['Mirrored, UV Protection Wayfarer Sunglasses (53)',\n",
       " 'UV Protection Aviator Sunglasses (58)',\n",
       " 'Mirrored Aviator Sunglasses (Free Size)',\n",
       " 'UV Protection Oval Sunglasses (Free Size)',\n",
       " 'UV Protection Rectangular Sunglasses (Free Size)',\n",
       " 'Polarized Retro Square Sunglasses (Free Size)',\n",
       " 'UV Protection, Mirrored Clubmaster Sunglasses (Free Siz...',\n",
       " 'by Lenskart Polarized, UV Protection Wayfarer Sunglasse...',\n",
       " 'UV Protection Aviator Sunglasses (Free Size)',\n",
       " 'UV Protection, Gradient Butterfly Sunglasses (57)',\n",
       " 'UV Protection, Gradient Rectangular Sunglasses (Free Si...',\n",
       " 'UV Protection, Riding Glasses, Others Aviator, Wayfarer...',\n",
       " 'Riding Glasses, Night Vision Wrap-around Sunglasses (Fr...',\n",
       " 'UV Protection Aviator Sunglasses (57)',\n",
       " 'UV Protection Aviator Sunglasses (Free Size)',\n",
       " 'UV Protection Aviator Sunglasses (Free Size)',\n",
       " 'UV Protection Aviator Sunglasses (58)',\n",
       " 'UV Protection Clubmaster Sunglasses (Free Size)',\n",
       " 'UV Protection Wayfarer Sunglasses (Free Size)',\n",
       " 'by Lenskart Polarized, UV Protection Wayfarer Sunglasse...',\n",
       " 'UV Protection Wayfarer Sunglasses (Free Size)',\n",
       " 'Night Vision, UV Protection Round Sunglasses (54)',\n",
       " 'UV Protection, Gradient Retro Square Sunglasses (Free S...',\n",
       " 'Others Wayfarer Sunglasses (Free Size)',\n",
       " 'UV Protection Wayfarer Sunglasses (Free Size)',\n",
       " 'UV Protection, Gradient Round Sunglasses (Free Size)',\n",
       " 'UV Protection Aviator Sunglasses (58)',\n",
       " 'by Lenskart Polarized, UV Protection Wayfarer Sunglasse...',\n",
       " 'UV Protection Aviator Sunglasses (Free Size)',\n",
       " 'Night Vision, Riding Glasses Wayfarer Sunglasses (53)',\n",
       " 'UV Protection Round Sunglasses (Free Size)',\n",
       " 'UV Protection, Riding Glasses Rectangular Sunglasses (F...',\n",
       " 'UV Protection Wayfarer Sunglasses (53)',\n",
       " 'UV Protection, Others Round Sunglasses (48)',\n",
       " 'UV Protection Retro Square Sunglasses (Free Size)',\n",
       " 'UV Protection, Gradient Wayfarer, Round Sunglasses (63)',\n",
       " 'Riding Glasses, UV Protection Oval Sunglasses (48)',\n",
       " 'UV Protection Cat-eye Sunglasses (Free Size)',\n",
       " 'Others Retro Square Sunglasses (Free Size)',\n",
       " 'by Lenskart UV Protection Wayfarer Sunglasses (49)']"
      ]
     },
     "execution_count": 114,
     "metadata": {},
     "output_type": "execute_result"
    }
   ],
   "source": [
    "Description2"
   ]
  },
  {
   "cell_type": "code",
   "execution_count": 143,
   "id": "fb3f705c",
   "metadata": {},
   "outputs": [],
   "source": [
    "df1 = pd.DataFrame({'Brand':Brand,'Price':Price,'Description':Description})"
   ]
  },
  {
   "cell_type": "code",
   "execution_count": 144,
   "id": "91475ebd",
   "metadata": {},
   "outputs": [
    {
     "data": {
      "text/html": [
       "<div>\n",
       "<style scoped>\n",
       "    .dataframe tbody tr th:only-of-type {\n",
       "        vertical-align: middle;\n",
       "    }\n",
       "\n",
       "    .dataframe tbody tr th {\n",
       "        vertical-align: top;\n",
       "    }\n",
       "\n",
       "    .dataframe thead th {\n",
       "        text-align: right;\n",
       "    }\n",
       "</style>\n",
       "<table border=\"1\" class=\"dataframe\">\n",
       "  <thead>\n",
       "    <tr style=\"text-align: right;\">\n",
       "      <th></th>\n",
       "      <th>Brand</th>\n",
       "      <th>Price</th>\n",
       "      <th>Description</th>\n",
       "    </tr>\n",
       "  </thead>\n",
       "  <tbody>\n",
       "    <tr>\n",
       "      <th>0</th>\n",
       "      <td>ROZZETTA CRAFT</td>\n",
       "      <td>₹331₹1,99983% off</td>\n",
       "      <td>UV Protection, Gradient Retro Square Sunglasse...</td>\n",
       "    </tr>\n",
       "    <tr>\n",
       "      <th>1</th>\n",
       "      <td>VINCENT CHASE</td>\n",
       "      <td>₹1,533₹2,50038% off\\nFree delivery</td>\n",
       "      <td>by Lenskart Polarized, UV Protection Wayfarer ...</td>\n",
       "    </tr>\n",
       "    <tr>\n",
       "      <th>2</th>\n",
       "      <td>Elligator</td>\n",
       "      <td>₹248₹2,49590% off</td>\n",
       "      <td>UV Protection Round Sunglasses (54)</td>\n",
       "    </tr>\n",
       "    <tr>\n",
       "      <th>3</th>\n",
       "      <td>Fastrack</td>\n",
       "      <td>₹639₹79920% off\\nFree delivery</td>\n",
       "      <td>UV Protection Rectangular Sunglasses (Free Size)</td>\n",
       "    </tr>\n",
       "    <tr>\n",
       "      <th>4</th>\n",
       "      <td>SHAAH COLLECTIONS</td>\n",
       "      <td>₹165₹1,69990% off</td>\n",
       "      <td>UV Protection, Polarized, Mirrored Rectangular...</td>\n",
       "    </tr>\n",
       "    <tr>\n",
       "      <th>5</th>\n",
       "      <td>SUNBEE</td>\n",
       "      <td>₹243₹1,29981% off</td>\n",
       "      <td>UV Protection, Polarized Wayfarer Sunglasses (...</td>\n",
       "    </tr>\n",
       "    <tr>\n",
       "      <th>6</th>\n",
       "      <td>SRPM</td>\n",
       "      <td>₹188₹1,29985% off</td>\n",
       "      <td>UV Protection Wayfarer Sunglasses (50)</td>\n",
       "    </tr>\n",
       "    <tr>\n",
       "      <th>7</th>\n",
       "      <td>VINCENT CHASE</td>\n",
       "      <td>₹1,415₹1,99929% off\\nFree delivery</td>\n",
       "      <td>by Lenskart Polarized, UV Protection Round Sun...</td>\n",
       "    </tr>\n",
       "    <tr>\n",
       "      <th>8</th>\n",
       "      <td>SUNBEE</td>\n",
       "      <td>₹271₹1,69984% off</td>\n",
       "      <td>UV Protection, Polarized, Mirrored Round Sungl...</td>\n",
       "    </tr>\n",
       "    <tr>\n",
       "      <th>9</th>\n",
       "      <td>New Specs</td>\n",
       "      <td>₹239₹1,99988% off</td>\n",
       "      <td>UV Protection Rectangular Sunglasses (Free Size)</td>\n",
       "    </tr>\n",
       "    <tr>\n",
       "      <th>10</th>\n",
       "      <td>kingsunglasses</td>\n",
       "      <td>₹178₹99982% off</td>\n",
       "      <td>UV Protection Round Sunglasses (54)</td>\n",
       "    </tr>\n",
       "    <tr>\n",
       "      <th>11</th>\n",
       "      <td>elegante</td>\n",
       "      <td>₹389₹1,49974% off</td>\n",
       "      <td>UV Protection Oval Sunglasses (Free Size)</td>\n",
       "    </tr>\n",
       "    <tr>\n",
       "      <th>12</th>\n",
       "      <td>Fastrack</td>\n",
       "      <td>₹549₹79931% off\\nFree delivery</td>\n",
       "      <td>Gradient, UV Protection Wayfarer Sunglasses (F...</td>\n",
       "    </tr>\n",
       "    <tr>\n",
       "      <th>13</th>\n",
       "      <td>PIRASO</td>\n",
       "      <td>₹229₹1,59985% off</td>\n",
       "      <td>UV Protection Aviator Sunglasses (54)</td>\n",
       "    </tr>\n",
       "    <tr>\n",
       "      <th>14</th>\n",
       "      <td>PIRASO</td>\n",
       "      <td>₹225₹1,59985% off</td>\n",
       "      <td>UV Protection Aviator Sunglasses (54)</td>\n",
       "    </tr>\n",
       "    <tr>\n",
       "      <th>15</th>\n",
       "      <td>VINCENT CHASE</td>\n",
       "      <td>₹1,179₹1,99941% off\\nFree delivery</td>\n",
       "      <td>by Lenskart Polarized, UV Protection Wayfarer ...</td>\n",
       "    </tr>\n",
       "    <tr>\n",
       "      <th>16</th>\n",
       "      <td>Elligator</td>\n",
       "      <td>₹189₹1,49787% off</td>\n",
       "      <td>UV Protection Round Sunglasses (53)</td>\n",
       "    </tr>\n",
       "    <tr>\n",
       "      <th>17</th>\n",
       "      <td>SHAAH COLLECTIONS</td>\n",
       "      <td>₹181₹99981% off</td>\n",
       "      <td>UV Protection, Polarized, Mirrored Rectangular...</td>\n",
       "    </tr>\n",
       "    <tr>\n",
       "      <th>18</th>\n",
       "      <td>PHENOMENAL</td>\n",
       "      <td>₹299₹1,99985% off</td>\n",
       "      <td>UV Protection, Mirrored Retro Square Sunglasse...</td>\n",
       "    </tr>\n",
       "    <tr>\n",
       "      <th>19</th>\n",
       "      <td>VINCENT CHASE</td>\n",
       "      <td>₹1,533₹2,50038% off\\nFree delivery</td>\n",
       "      <td>by Lenskart Polarized, UV Protection Wayfarer ...</td>\n",
       "    </tr>\n",
       "    <tr>\n",
       "      <th>20</th>\n",
       "      <td>PHENOMENAL</td>\n",
       "      <td>₹259₹99974% off</td>\n",
       "      <td>UV Protection Retro Square Sunglasses (53)</td>\n",
       "    </tr>\n",
       "    <tr>\n",
       "      <th>21</th>\n",
       "      <td>Elligator</td>\n",
       "      <td>₹265₹1,29979% off</td>\n",
       "      <td>UV Protection Round Sunglasses (54)</td>\n",
       "    </tr>\n",
       "    <tr>\n",
       "      <th>22</th>\n",
       "      <td>ROZZETTA CRAFT</td>\n",
       "      <td>₹383₹1,99980% off</td>\n",
       "      <td>UV Protection, Gradient Rectangular Sunglasses...</td>\n",
       "    </tr>\n",
       "    <tr>\n",
       "      <th>23</th>\n",
       "      <td>VINCENT CHASE</td>\n",
       "      <td>₹1,415₹2,50043% off\\nFree delivery</td>\n",
       "      <td>by Lenskart Polarized, UV Protection Wayfarer ...</td>\n",
       "    </tr>\n",
       "    <tr>\n",
       "      <th>24</th>\n",
       "      <td>PHENOMENAL</td>\n",
       "      <td>₹299₹1,99985% off</td>\n",
       "      <td>UV Protection, Mirrored Retro Square Sunglasse...</td>\n",
       "    </tr>\n",
       "    <tr>\n",
       "      <th>25</th>\n",
       "      <td>PHENOMENAL</td>\n",
       "      <td>₹309₹1,99984% off</td>\n",
       "      <td>UV Protection Retro Square Sunglasses (Free Size)</td>\n",
       "    </tr>\n",
       "    <tr>\n",
       "      <th>26</th>\n",
       "      <td>Lee Topper</td>\n",
       "      <td>₹199₹99980% off</td>\n",
       "      <td>UV Protection Rectangular Sunglasses (Free Size)</td>\n",
       "    </tr>\n",
       "    <tr>\n",
       "      <th>27</th>\n",
       "      <td>ROZZETTA CRAFT</td>\n",
       "      <td>₹616₹2,55575% off\\nFree delivery</td>\n",
       "      <td>UV Protection Aviator Sunglasses (Free Size)</td>\n",
       "    </tr>\n",
       "    <tr>\n",
       "      <th>28</th>\n",
       "      <td>PIRASO</td>\n",
       "      <td>₹225₹1,59985% off</td>\n",
       "      <td>UV Protection Aviator Sunglasses (54)</td>\n",
       "    </tr>\n",
       "    <tr>\n",
       "      <th>29</th>\n",
       "      <td>SUNBEE</td>\n",
       "      <td>₹235₹1,29981% off</td>\n",
       "      <td>UV Protection, Polarized, Mirrored Retro Squar...</td>\n",
       "    </tr>\n",
       "    <tr>\n",
       "      <th>30</th>\n",
       "      <td>New Specs</td>\n",
       "      <td>₹259₹1,39981% off</td>\n",
       "      <td>Mirrored, UV Protection, Riding Glasses, Other...</td>\n",
       "    </tr>\n",
       "    <tr>\n",
       "      <th>31</th>\n",
       "      <td>ROZZETTA CRAFT</td>\n",
       "      <td>₹426₹2,22580% off</td>\n",
       "      <td>UV Protection, Riding Glasses Rectangular Sung...</td>\n",
       "    </tr>\n",
       "    <tr>\n",
       "      <th>32</th>\n",
       "      <td>GANSTA</td>\n",
       "      <td>₹269₹1,99986% off</td>\n",
       "      <td>UV Protection Aviator Sunglasses (57)</td>\n",
       "    </tr>\n",
       "    <tr>\n",
       "      <th>33</th>\n",
       "      <td>kingsunglasses</td>\n",
       "      <td>₹229₹1,99988% off</td>\n",
       "      <td>Mirrored, UV Protection Wayfarer Sunglasses (F...</td>\n",
       "    </tr>\n",
       "    <tr>\n",
       "      <th>34</th>\n",
       "      <td>PIRASO</td>\n",
       "      <td>₹225₹1,59985% off</td>\n",
       "      <td>UV Protection Wayfarer Sunglasses (32)</td>\n",
       "    </tr>\n",
       "    <tr>\n",
       "      <th>35</th>\n",
       "      <td>VINCENT CHASE</td>\n",
       "      <td>₹1,533₹2,50038% off\\nFree delivery</td>\n",
       "      <td>by Lenskart Polarized, UV Protection Wayfarer ...</td>\n",
       "    </tr>\n",
       "    <tr>\n",
       "      <th>36</th>\n",
       "      <td>PIRASO</td>\n",
       "      <td>₹299₹1,59981% off</td>\n",
       "      <td>UV Protection Aviator Sunglasses (Free Size)</td>\n",
       "    </tr>\n",
       "    <tr>\n",
       "      <th>37</th>\n",
       "      <td>Singco India</td>\n",
       "      <td>₹229₹69967% off</td>\n",
       "      <td>UV Protection, Riding Glasses, Others Aviator,...</td>\n",
       "    </tr>\n",
       "    <tr>\n",
       "      <th>38</th>\n",
       "      <td>Rich Club</td>\n",
       "      <td>₹165₹49966% off</td>\n",
       "      <td>Polarized Round Sunglasses (48)</td>\n",
       "    </tr>\n",
       "    <tr>\n",
       "      <th>39</th>\n",
       "      <td>VINCENT CHASE</td>\n",
       "      <td>₹1,415₹2,50043% off\\nFree delivery</td>\n",
       "      <td>by Lenskart Polarized, UV Protection Round Sun...</td>\n",
       "    </tr>\n",
       "  </tbody>\n",
       "</table>\n",
       "</div>"
      ],
      "text/plain": [
       "                Brand                               Price  \\\n",
       "0      ROZZETTA CRAFT                   ₹331₹1,99983% off   \n",
       "1       VINCENT CHASE  ₹1,533₹2,50038% off\\nFree delivery   \n",
       "2           Elligator                   ₹248₹2,49590% off   \n",
       "3            Fastrack      ₹639₹79920% off\\nFree delivery   \n",
       "4   SHAAH COLLECTIONS                   ₹165₹1,69990% off   \n",
       "5              SUNBEE                   ₹243₹1,29981% off   \n",
       "6                SRPM                   ₹188₹1,29985% off   \n",
       "7       VINCENT CHASE  ₹1,415₹1,99929% off\\nFree delivery   \n",
       "8              SUNBEE                   ₹271₹1,69984% off   \n",
       "9           New Specs                   ₹239₹1,99988% off   \n",
       "10     kingsunglasses                     ₹178₹99982% off   \n",
       "11           elegante                   ₹389₹1,49974% off   \n",
       "12           Fastrack      ₹549₹79931% off\\nFree delivery   \n",
       "13             PIRASO                   ₹229₹1,59985% off   \n",
       "14             PIRASO                   ₹225₹1,59985% off   \n",
       "15      VINCENT CHASE  ₹1,179₹1,99941% off\\nFree delivery   \n",
       "16          Elligator                   ₹189₹1,49787% off   \n",
       "17  SHAAH COLLECTIONS                     ₹181₹99981% off   \n",
       "18         PHENOMENAL                   ₹299₹1,99985% off   \n",
       "19      VINCENT CHASE  ₹1,533₹2,50038% off\\nFree delivery   \n",
       "20         PHENOMENAL                     ₹259₹99974% off   \n",
       "21          Elligator                   ₹265₹1,29979% off   \n",
       "22     ROZZETTA CRAFT                   ₹383₹1,99980% off   \n",
       "23      VINCENT CHASE  ₹1,415₹2,50043% off\\nFree delivery   \n",
       "24         PHENOMENAL                   ₹299₹1,99985% off   \n",
       "25         PHENOMENAL                   ₹309₹1,99984% off   \n",
       "26         Lee Topper                     ₹199₹99980% off   \n",
       "27     ROZZETTA CRAFT    ₹616₹2,55575% off\\nFree delivery   \n",
       "28             PIRASO                   ₹225₹1,59985% off   \n",
       "29             SUNBEE                   ₹235₹1,29981% off   \n",
       "30          New Specs                   ₹259₹1,39981% off   \n",
       "31     ROZZETTA CRAFT                   ₹426₹2,22580% off   \n",
       "32             GANSTA                   ₹269₹1,99986% off   \n",
       "33     kingsunglasses                   ₹229₹1,99988% off   \n",
       "34             PIRASO                   ₹225₹1,59985% off   \n",
       "35      VINCENT CHASE  ₹1,533₹2,50038% off\\nFree delivery   \n",
       "36             PIRASO                   ₹299₹1,59981% off   \n",
       "37       Singco India                     ₹229₹69967% off   \n",
       "38          Rich Club                     ₹165₹49966% off   \n",
       "39      VINCENT CHASE  ₹1,415₹2,50043% off\\nFree delivery   \n",
       "\n",
       "                                          Description  \n",
       "0   UV Protection, Gradient Retro Square Sunglasse...  \n",
       "1   by Lenskart Polarized, UV Protection Wayfarer ...  \n",
       "2                 UV Protection Round Sunglasses (54)  \n",
       "3    UV Protection Rectangular Sunglasses (Free Size)  \n",
       "4   UV Protection, Polarized, Mirrored Rectangular...  \n",
       "5   UV Protection, Polarized Wayfarer Sunglasses (...  \n",
       "6              UV Protection Wayfarer Sunglasses (50)  \n",
       "7   by Lenskart Polarized, UV Protection Round Sun...  \n",
       "8   UV Protection, Polarized, Mirrored Round Sungl...  \n",
       "9    UV Protection Rectangular Sunglasses (Free Size)  \n",
       "10                UV Protection Round Sunglasses (54)  \n",
       "11          UV Protection Oval Sunglasses (Free Size)  \n",
       "12  Gradient, UV Protection Wayfarer Sunglasses (F...  \n",
       "13              UV Protection Aviator Sunglasses (54)  \n",
       "14              UV Protection Aviator Sunglasses (54)  \n",
       "15  by Lenskart Polarized, UV Protection Wayfarer ...  \n",
       "16                UV Protection Round Sunglasses (53)  \n",
       "17  UV Protection, Polarized, Mirrored Rectangular...  \n",
       "18  UV Protection, Mirrored Retro Square Sunglasse...  \n",
       "19  by Lenskart Polarized, UV Protection Wayfarer ...  \n",
       "20         UV Protection Retro Square Sunglasses (53)  \n",
       "21                UV Protection Round Sunglasses (54)  \n",
       "22  UV Protection, Gradient Rectangular Sunglasses...  \n",
       "23  by Lenskart Polarized, UV Protection Wayfarer ...  \n",
       "24  UV Protection, Mirrored Retro Square Sunglasse...  \n",
       "25  UV Protection Retro Square Sunglasses (Free Size)  \n",
       "26   UV Protection Rectangular Sunglasses (Free Size)  \n",
       "27       UV Protection Aviator Sunglasses (Free Size)  \n",
       "28              UV Protection Aviator Sunglasses (54)  \n",
       "29  UV Protection, Polarized, Mirrored Retro Squar...  \n",
       "30  Mirrored, UV Protection, Riding Glasses, Other...  \n",
       "31  UV Protection, Riding Glasses Rectangular Sung...  \n",
       "32              UV Protection Aviator Sunglasses (57)  \n",
       "33  Mirrored, UV Protection Wayfarer Sunglasses (F...  \n",
       "34             UV Protection Wayfarer Sunglasses (32)  \n",
       "35  by Lenskart Polarized, UV Protection Wayfarer ...  \n",
       "36       UV Protection Aviator Sunglasses (Free Size)  \n",
       "37  UV Protection, Riding Glasses, Others Aviator,...  \n",
       "38                    Polarized Round Sunglasses (48)  \n",
       "39  by Lenskart Polarized, UV Protection Round Sun...  "
      ]
     },
     "execution_count": 144,
     "metadata": {},
     "output_type": "execute_result"
    }
   ],
   "source": [
    "df1"
   ]
  },
  {
   "cell_type": "code",
   "execution_count": 145,
   "id": "d40fcaad",
   "metadata": {},
   "outputs": [],
   "source": [
    "df2 = pd.DataFrame({'Brand':Brand1,'Price':Price1,'Description':Description1})"
   ]
  },
  {
   "cell_type": "code",
   "execution_count": 146,
   "id": "229d662d",
   "metadata": {},
   "outputs": [
    {
     "data": {
      "text/html": [
       "<div>\n",
       "<style scoped>\n",
       "    .dataframe tbody tr th:only-of-type {\n",
       "        vertical-align: middle;\n",
       "    }\n",
       "\n",
       "    .dataframe tbody tr th {\n",
       "        vertical-align: top;\n",
       "    }\n",
       "\n",
       "    .dataframe thead th {\n",
       "        text-align: right;\n",
       "    }\n",
       "</style>\n",
       "<table border=\"1\" class=\"dataframe\">\n",
       "  <thead>\n",
       "    <tr style=\"text-align: right;\">\n",
       "      <th></th>\n",
       "      <th>Brand</th>\n",
       "      <th>Price</th>\n",
       "      <th>Description</th>\n",
       "    </tr>\n",
       "  </thead>\n",
       "  <tbody>\n",
       "    <tr>\n",
       "      <th>0</th>\n",
       "      <td>Elligator</td>\n",
       "      <td>₹230₹1,99688% off</td>\n",
       "      <td>UV Protection Round Sunglasses (50)</td>\n",
       "    </tr>\n",
       "    <tr>\n",
       "      <th>1</th>\n",
       "      <td>ROZZETTA CRAFT</td>\n",
       "      <td>₹474₹1,99976% off</td>\n",
       "      <td>Polarized, Night Vision, Riding Glasses Sports...</td>\n",
       "    </tr>\n",
       "    <tr>\n",
       "      <th>2</th>\n",
       "      <td>Singco India</td>\n",
       "      <td>₹225₹1,49984% off</td>\n",
       "      <td>Riding Glasses, UV Protection, Others Aviator ...</td>\n",
       "    </tr>\n",
       "    <tr>\n",
       "      <th>3</th>\n",
       "      <td>AISLIN</td>\n",
       "      <td>₹611₹3,20080% off\\nFree delivery</td>\n",
       "      <td>UV Protection, Gradient Wayfarer, Round Sungla...</td>\n",
       "    </tr>\n",
       "    <tr>\n",
       "      <th>4</th>\n",
       "      <td>kingsunglasses</td>\n",
       "      <td>₹274₹1,59982% off</td>\n",
       "      <td>UV Protection Round Sunglasses (Free Size)</td>\n",
       "    </tr>\n",
       "    <tr>\n",
       "      <th>5</th>\n",
       "      <td>maxa</td>\n",
       "      <td>₹144₹69979% off</td>\n",
       "      <td>UV Protection, Riding Glasses Rectangular, Way...</td>\n",
       "    </tr>\n",
       "    <tr>\n",
       "      <th>6</th>\n",
       "      <td>DEIXELS</td>\n",
       "      <td>₹202₹1,19983% off</td>\n",
       "      <td>UV Protection Aviator, Wayfarer Sunglasses (Fr...</td>\n",
       "    </tr>\n",
       "    <tr>\n",
       "      <th>7</th>\n",
       "      <td>VINCENT CHASE</td>\n",
       "      <td>₹1,179₹1,99941% off\\nFree delivery</td>\n",
       "      <td>by Lenskart UV Protection Wayfarer Sunglasses ...</td>\n",
       "    </tr>\n",
       "    <tr>\n",
       "      <th>8</th>\n",
       "      <td>DEIXELS</td>\n",
       "      <td>₹199₹49960% off</td>\n",
       "      <td>UV Protection Wayfarer Sunglasses (Free Size)</td>\n",
       "    </tr>\n",
       "    <tr>\n",
       "      <th>9</th>\n",
       "      <td>SRPM</td>\n",
       "      <td>₹207₹99879% off</td>\n",
       "      <td>UV Protection Wayfarer Sunglasses (53)</td>\n",
       "    </tr>\n",
       "    <tr>\n",
       "      <th>10</th>\n",
       "      <td>kingsunglasses</td>\n",
       "      <td>₹177₹1,19985% off</td>\n",
       "      <td>UV Protection, Riding Glasses, Mirrored Wayfar...</td>\n",
       "    </tr>\n",
       "    <tr>\n",
       "      <th>11</th>\n",
       "      <td>Singco India</td>\n",
       "      <td>₹299₹2,49988% off</td>\n",
       "      <td>UV Protection, Riding Glasses, Others Wayfarer...</td>\n",
       "    </tr>\n",
       "    <tr>\n",
       "      <th>12</th>\n",
       "      <td>kingsunglasses</td>\n",
       "      <td>₹209₹1,29983% off</td>\n",
       "      <td>Mirrored, UV Protection Aviator Sunglasses (56)</td>\n",
       "    </tr>\n",
       "    <tr>\n",
       "      <th>13</th>\n",
       "      <td>kingsunglasses</td>\n",
       "      <td>₹172₹1,09984% off</td>\n",
       "      <td>UV Protection Rectangular Sunglasses (Free Size)</td>\n",
       "    </tr>\n",
       "    <tr>\n",
       "      <th>14</th>\n",
       "      <td>Elligator</td>\n",
       "      <td>₹291₹1,99985% off</td>\n",
       "      <td>UV Protection Retro Square, Round Sunglasses (54)</td>\n",
       "    </tr>\n",
       "    <tr>\n",
       "      <th>15</th>\n",
       "      <td>VINCENT CHASE</td>\n",
       "      <td>₹1,415₹1,99929% off\\nFree delivery</td>\n",
       "      <td>by Lenskart Polarized, UV Protection Wayfarer ...</td>\n",
       "    </tr>\n",
       "    <tr>\n",
       "      <th>16</th>\n",
       "      <td>agera</td>\n",
       "      <td>₹196₹1,14982% off</td>\n",
       "      <td>Gradient Aviator Sunglasses (55)</td>\n",
       "    </tr>\n",
       "    <tr>\n",
       "      <th>17</th>\n",
       "      <td>Fastrack</td>\n",
       "      <td>₹639₹79920% off\\nFree delivery</td>\n",
       "      <td>UV Protection Wayfarer Sunglasses (Free Size)</td>\n",
       "    </tr>\n",
       "    <tr>\n",
       "      <th>18</th>\n",
       "      <td>Silver Kartz</td>\n",
       "      <td>₹255₹1,19978% off</td>\n",
       "      <td>UV Protection Aviator Sunglasses (88)</td>\n",
       "    </tr>\n",
       "    <tr>\n",
       "      <th>19</th>\n",
       "      <td>elegante</td>\n",
       "      <td>₹399₹1,49973% off</td>\n",
       "      <td>UV Protection Wayfarer Sunglasses (Free Size)</td>\n",
       "    </tr>\n",
       "    <tr>\n",
       "      <th>20</th>\n",
       "      <td>New Specs</td>\n",
       "      <td>₹232₹1,29982% off</td>\n",
       "      <td>UV Protection Round Sunglasses (Free Size)</td>\n",
       "    </tr>\n",
       "    <tr>\n",
       "      <th>21</th>\n",
       "      <td>kingsunglasses</td>\n",
       "      <td>₹170₹1,29986% off</td>\n",
       "      <td>UV Protection Round Sunglasses (Free Size)</td>\n",
       "    </tr>\n",
       "    <tr>\n",
       "      <th>22</th>\n",
       "      <td>Fastrack</td>\n",
       "      <td>₹599₹89933% off\\nFree delivery</td>\n",
       "      <td>UV Protection Shield Sunglasses (Free Size)</td>\n",
       "    </tr>\n",
       "    <tr>\n",
       "      <th>23</th>\n",
       "      <td>AISLIN</td>\n",
       "      <td>₹404₹3,20087% off</td>\n",
       "      <td>UV Protection Wayfarer Sunglasses (57)</td>\n",
       "    </tr>\n",
       "    <tr>\n",
       "      <th>24</th>\n",
       "      <td>ROYAL SON</td>\n",
       "      <td>₹359₹1,49976% off</td>\n",
       "      <td>Mirrored Aviator Sunglasses (55)</td>\n",
       "    </tr>\n",
       "    <tr>\n",
       "      <th>25</th>\n",
       "      <td>PIRASO</td>\n",
       "      <td>₹349₹2,59986% off</td>\n",
       "      <td>UV Protection Butterfly Sunglasses (65)</td>\n",
       "    </tr>\n",
       "    <tr>\n",
       "      <th>26</th>\n",
       "      <td>hipe</td>\n",
       "      <td>₹189₹1,46687% off</td>\n",
       "      <td>Mirrored, UV Protection, Gradient Round Sungla...</td>\n",
       "    </tr>\n",
       "    <tr>\n",
       "      <th>27</th>\n",
       "      <td>elegante</td>\n",
       "      <td>₹399₹1,49973% off</td>\n",
       "      <td>UV Protection Over-sized Sunglasses (Free Size)</td>\n",
       "    </tr>\n",
       "    <tr>\n",
       "      <th>28</th>\n",
       "      <td>ROYAL SON</td>\n",
       "      <td>₹449₹1,49970% off</td>\n",
       "      <td>UV Protection Rectangular Sunglasses (58)</td>\n",
       "    </tr>\n",
       "    <tr>\n",
       "      <th>29</th>\n",
       "      <td>kingsunglasses</td>\n",
       "      <td>₹174₹99982% off</td>\n",
       "      <td>UV Protection, Others Round, Aviator Sunglasse...</td>\n",
       "    </tr>\n",
       "    <tr>\n",
       "      <th>30</th>\n",
       "      <td>Singco India</td>\n",
       "      <td>₹664₹2,99977% off\\nFree delivery</td>\n",
       "      <td>Gradient, Toughened Glass Lens, UV Protection ...</td>\n",
       "    </tr>\n",
       "    <tr>\n",
       "      <th>31</th>\n",
       "      <td>ROYAL SON</td>\n",
       "      <td>₹664₹1,99966% off\\nFree delivery</td>\n",
       "      <td>UV Protection, Gradient Butterfly Sunglasses (55)</td>\n",
       "    </tr>\n",
       "    <tr>\n",
       "      <th>32</th>\n",
       "      <td>Rich Club</td>\n",
       "      <td>₹152₹49969% off</td>\n",
       "      <td>Polarized Round Sunglasses (48)</td>\n",
       "    </tr>\n",
       "    <tr>\n",
       "      <th>33</th>\n",
       "      <td>Rich Club</td>\n",
       "      <td>₹220₹79972% off</td>\n",
       "      <td>UV Protection Round Sunglasses (48)</td>\n",
       "    </tr>\n",
       "    <tr>\n",
       "      <th>34</th>\n",
       "      <td>Johaena</td>\n",
       "      <td>₹156₹1,28887% off</td>\n",
       "      <td>Riding Glasses, UV Protection Oval Sunglasses ...</td>\n",
       "    </tr>\n",
       "    <tr>\n",
       "      <th>35</th>\n",
       "      <td>AISLIN</td>\n",
       "      <td>₹462₹2,47581% off</td>\n",
       "      <td>UV Protection Rectangular, Cat-eye Sunglasses ...</td>\n",
       "    </tr>\n",
       "    <tr>\n",
       "      <th>36</th>\n",
       "      <td>ROYAL SON</td>\n",
       "      <td>₹449₹1,49970% off</td>\n",
       "      <td>UV Protection Retro Square Sunglasses (58)</td>\n",
       "    </tr>\n",
       "    <tr>\n",
       "      <th>37</th>\n",
       "      <td>Elligator</td>\n",
       "      <td>₹263₹1,49582% off</td>\n",
       "      <td>UV Protection, Gradient Aviator Sunglasses (50)</td>\n",
       "    </tr>\n",
       "    <tr>\n",
       "      <th>38</th>\n",
       "      <td>Silver Kartz</td>\n",
       "      <td>₹284₹1,19976% off</td>\n",
       "      <td>UV Protection Oval Sunglasses (56)</td>\n",
       "    </tr>\n",
       "    <tr>\n",
       "      <th>39</th>\n",
       "      <td>VINCENT CHASE</td>\n",
       "      <td>₹1,415₹1,99929% off\\nFree delivery</td>\n",
       "      <td>by Lenskart UV Protection Round Sunglasses (48)</td>\n",
       "    </tr>\n",
       "  </tbody>\n",
       "</table>\n",
       "</div>"
      ],
      "text/plain": [
       "             Brand                               Price  \\\n",
       "0        Elligator                   ₹230₹1,99688% off   \n",
       "1   ROZZETTA CRAFT                   ₹474₹1,99976% off   \n",
       "2     Singco India                   ₹225₹1,49984% off   \n",
       "3           AISLIN    ₹611₹3,20080% off\\nFree delivery   \n",
       "4   kingsunglasses                   ₹274₹1,59982% off   \n",
       "5             maxa                     ₹144₹69979% off   \n",
       "6          DEIXELS                   ₹202₹1,19983% off   \n",
       "7    VINCENT CHASE  ₹1,179₹1,99941% off\\nFree delivery   \n",
       "8          DEIXELS                     ₹199₹49960% off   \n",
       "9             SRPM                     ₹207₹99879% off   \n",
       "10  kingsunglasses                   ₹177₹1,19985% off   \n",
       "11    Singco India                   ₹299₹2,49988% off   \n",
       "12  kingsunglasses                   ₹209₹1,29983% off   \n",
       "13  kingsunglasses                   ₹172₹1,09984% off   \n",
       "14       Elligator                   ₹291₹1,99985% off   \n",
       "15   VINCENT CHASE  ₹1,415₹1,99929% off\\nFree delivery   \n",
       "16           agera                   ₹196₹1,14982% off   \n",
       "17        Fastrack      ₹639₹79920% off\\nFree delivery   \n",
       "18    Silver Kartz                   ₹255₹1,19978% off   \n",
       "19        elegante                   ₹399₹1,49973% off   \n",
       "20       New Specs                   ₹232₹1,29982% off   \n",
       "21  kingsunglasses                   ₹170₹1,29986% off   \n",
       "22        Fastrack      ₹599₹89933% off\\nFree delivery   \n",
       "23          AISLIN                   ₹404₹3,20087% off   \n",
       "24       ROYAL SON                   ₹359₹1,49976% off   \n",
       "25          PIRASO                   ₹349₹2,59986% off   \n",
       "26            hipe                   ₹189₹1,46687% off   \n",
       "27        elegante                   ₹399₹1,49973% off   \n",
       "28       ROYAL SON                   ₹449₹1,49970% off   \n",
       "29  kingsunglasses                     ₹174₹99982% off   \n",
       "30    Singco India    ₹664₹2,99977% off\\nFree delivery   \n",
       "31       ROYAL SON    ₹664₹1,99966% off\\nFree delivery   \n",
       "32       Rich Club                     ₹152₹49969% off   \n",
       "33       Rich Club                     ₹220₹79972% off   \n",
       "34         Johaena                   ₹156₹1,28887% off   \n",
       "35          AISLIN                   ₹462₹2,47581% off   \n",
       "36       ROYAL SON                   ₹449₹1,49970% off   \n",
       "37       Elligator                   ₹263₹1,49582% off   \n",
       "38    Silver Kartz                   ₹284₹1,19976% off   \n",
       "39   VINCENT CHASE  ₹1,415₹1,99929% off\\nFree delivery   \n",
       "\n",
       "                                          Description  \n",
       "0                 UV Protection Round Sunglasses (50)  \n",
       "1   Polarized, Night Vision, Riding Glasses Sports...  \n",
       "2   Riding Glasses, UV Protection, Others Aviator ...  \n",
       "3   UV Protection, Gradient Wayfarer, Round Sungla...  \n",
       "4          UV Protection Round Sunglasses (Free Size)  \n",
       "5   UV Protection, Riding Glasses Rectangular, Way...  \n",
       "6   UV Protection Aviator, Wayfarer Sunglasses (Fr...  \n",
       "7   by Lenskart UV Protection Wayfarer Sunglasses ...  \n",
       "8       UV Protection Wayfarer Sunglasses (Free Size)  \n",
       "9              UV Protection Wayfarer Sunglasses (53)  \n",
       "10  UV Protection, Riding Glasses, Mirrored Wayfar...  \n",
       "11  UV Protection, Riding Glasses, Others Wayfarer...  \n",
       "12    Mirrored, UV Protection Aviator Sunglasses (56)  \n",
       "13   UV Protection Rectangular Sunglasses (Free Size)  \n",
       "14  UV Protection Retro Square, Round Sunglasses (54)  \n",
       "15  by Lenskart Polarized, UV Protection Wayfarer ...  \n",
       "16                   Gradient Aviator Sunglasses (55)  \n",
       "17      UV Protection Wayfarer Sunglasses (Free Size)  \n",
       "18              UV Protection Aviator Sunglasses (88)  \n",
       "19      UV Protection Wayfarer Sunglasses (Free Size)  \n",
       "20         UV Protection Round Sunglasses (Free Size)  \n",
       "21         UV Protection Round Sunglasses (Free Size)  \n",
       "22        UV Protection Shield Sunglasses (Free Size)  \n",
       "23             UV Protection Wayfarer Sunglasses (57)  \n",
       "24                   Mirrored Aviator Sunglasses (55)  \n",
       "25            UV Protection Butterfly Sunglasses (65)  \n",
       "26  Mirrored, UV Protection, Gradient Round Sungla...  \n",
       "27    UV Protection Over-sized Sunglasses (Free Size)  \n",
       "28          UV Protection Rectangular Sunglasses (58)  \n",
       "29  UV Protection, Others Round, Aviator Sunglasse...  \n",
       "30  Gradient, Toughened Glass Lens, UV Protection ...  \n",
       "31  UV Protection, Gradient Butterfly Sunglasses (55)  \n",
       "32                    Polarized Round Sunglasses (48)  \n",
       "33                UV Protection Round Sunglasses (48)  \n",
       "34  Riding Glasses, UV Protection Oval Sunglasses ...  \n",
       "35  UV Protection Rectangular, Cat-eye Sunglasses ...  \n",
       "36         UV Protection Retro Square Sunglasses (58)  \n",
       "37    UV Protection, Gradient Aviator Sunglasses (50)  \n",
       "38                 UV Protection Oval Sunglasses (56)  \n",
       "39    by Lenskart UV Protection Round Sunglasses (48)  "
      ]
     },
     "execution_count": 146,
     "metadata": {},
     "output_type": "execute_result"
    }
   ],
   "source": [
    "df2"
   ]
  },
  {
   "cell_type": "code",
   "execution_count": 147,
   "id": "1140067f",
   "metadata": {},
   "outputs": [],
   "source": [
    "df3 = pd.DataFrame({'Brand':Brand2,'Price':Price2,'Description':Description2})"
   ]
  },
  {
   "cell_type": "code",
   "execution_count": 148,
   "id": "cbd38fbb",
   "metadata": {},
   "outputs": [
    {
     "data": {
      "text/html": [
       "<div>\n",
       "<style scoped>\n",
       "    .dataframe tbody tr th:only-of-type {\n",
       "        vertical-align: middle;\n",
       "    }\n",
       "\n",
       "    .dataframe tbody tr th {\n",
       "        vertical-align: top;\n",
       "    }\n",
       "\n",
       "    .dataframe thead th {\n",
       "        text-align: right;\n",
       "    }\n",
       "</style>\n",
       "<table border=\"1\" class=\"dataframe\">\n",
       "  <thead>\n",
       "    <tr style=\"text-align: right;\">\n",
       "      <th></th>\n",
       "      <th>Brand</th>\n",
       "      <th>Price</th>\n",
       "      <th>Description</th>\n",
       "    </tr>\n",
       "  </thead>\n",
       "  <tbody>\n",
       "    <tr>\n",
       "      <th>0</th>\n",
       "      <td>kingsunglasses</td>\n",
       "      <td>₹246₹1,99987% off</td>\n",
       "      <td>Mirrored, UV Protection Wayfarer Sunglasses (53)</td>\n",
       "    </tr>\n",
       "    <tr>\n",
       "      <th>1</th>\n",
       "      <td>Fastrack</td>\n",
       "      <td>₹999₹1,29923% off\\nFree delivery</td>\n",
       "      <td>UV Protection Aviator Sunglasses (58)</td>\n",
       "    </tr>\n",
       "    <tr>\n",
       "      <th>2</th>\n",
       "      <td>ROYAL SON</td>\n",
       "      <td>₹359₹1,49976% off</td>\n",
       "      <td>Mirrored Aviator Sunglasses (Free Size)</td>\n",
       "    </tr>\n",
       "    <tr>\n",
       "      <th>3</th>\n",
       "      <td>elegante</td>\n",
       "      <td>₹389₹1,49974% off</td>\n",
       "      <td>UV Protection Oval Sunglasses (Free Size)</td>\n",
       "    </tr>\n",
       "    <tr>\n",
       "      <th>4</th>\n",
       "      <td>New Specs</td>\n",
       "      <td>₹156₹1,59990% off</td>\n",
       "      <td>UV Protection Rectangular Sunglasses (Free Size)</td>\n",
       "    </tr>\n",
       "    <tr>\n",
       "      <th>5</th>\n",
       "      <td>Fastrack</td>\n",
       "      <td>₹639₹79920% off\\nFree delivery</td>\n",
       "      <td>Polarized Retro Square Sunglasses (Free Size)</td>\n",
       "    </tr>\n",
       "    <tr>\n",
       "      <th>6</th>\n",
       "      <td>PHENOMENAL</td>\n",
       "      <td>₹289₹1,99885% off</td>\n",
       "      <td>UV Protection, Mirrored Clubmaster Sunglasses ...</td>\n",
       "    </tr>\n",
       "    <tr>\n",
       "      <th>7</th>\n",
       "      <td>VINCENT CHASE</td>\n",
       "      <td>₹1,179₹1,99941% off\\nFree delivery</td>\n",
       "      <td>by Lenskart Polarized, UV Protection Wayfarer ...</td>\n",
       "    </tr>\n",
       "    <tr>\n",
       "      <th>8</th>\n",
       "      <td>Fastrack</td>\n",
       "      <td>₹639₹79920% off\\nFree delivery</td>\n",
       "      <td>UV Protection Aviator Sunglasses (Free Size)</td>\n",
       "    </tr>\n",
       "    <tr>\n",
       "      <th>9</th>\n",
       "      <td>ROYAL SON</td>\n",
       "      <td>₹664₹1,99966% off\\nFree delivery</td>\n",
       "      <td>UV Protection, Gradient Butterfly Sunglasses (57)</td>\n",
       "    </tr>\n",
       "    <tr>\n",
       "      <th>10</th>\n",
       "      <td>ROZZETTA CRAFT</td>\n",
       "      <td>₹330₹2,25685% off</td>\n",
       "      <td>UV Protection, Gradient Rectangular Sunglasses...</td>\n",
       "    </tr>\n",
       "    <tr>\n",
       "      <th>11</th>\n",
       "      <td>Singco India</td>\n",
       "      <td>₹229₹69967% off</td>\n",
       "      <td>UV Protection, Riding Glasses, Others Aviator,...</td>\n",
       "    </tr>\n",
       "    <tr>\n",
       "      <th>12</th>\n",
       "      <td>Lee Topper</td>\n",
       "      <td>₹276₹2,49988% off</td>\n",
       "      <td>Riding Glasses, Night Vision Wrap-around Sungl...</td>\n",
       "    </tr>\n",
       "    <tr>\n",
       "      <th>13</th>\n",
       "      <td>GANSTA</td>\n",
       "      <td>₹204₹1,04980% off</td>\n",
       "      <td>UV Protection Aviator Sunglasses (57)</td>\n",
       "    </tr>\n",
       "    <tr>\n",
       "      <th>14</th>\n",
       "      <td>New Specs</td>\n",
       "      <td>₹175₹1,59989% off</td>\n",
       "      <td>UV Protection Aviator Sunglasses (Free Size)</td>\n",
       "    </tr>\n",
       "    <tr>\n",
       "      <th>15</th>\n",
       "      <td>ROZZETTA CRAFT</td>\n",
       "      <td>₹616₹2,55575% off\\nFree delivery</td>\n",
       "      <td>UV Protection Aviator Sunglasses (Free Size)</td>\n",
       "    </tr>\n",
       "    <tr>\n",
       "      <th>16</th>\n",
       "      <td>PIRASO</td>\n",
       "      <td>₹299₹2,59988% off</td>\n",
       "      <td>UV Protection Aviator Sunglasses (58)</td>\n",
       "    </tr>\n",
       "    <tr>\n",
       "      <th>17</th>\n",
       "      <td>PHENOMENAL</td>\n",
       "      <td>₹289₹1,99885% off</td>\n",
       "      <td>UV Protection Clubmaster Sunglasses (Free Size)</td>\n",
       "    </tr>\n",
       "    <tr>\n",
       "      <th>18</th>\n",
       "      <td>Poloport</td>\n",
       "      <td>₹236₹1,92087% off</td>\n",
       "      <td>UV Protection Wayfarer Sunglasses (Free Size)</td>\n",
       "    </tr>\n",
       "    <tr>\n",
       "      <th>19</th>\n",
       "      <td>VINCENT CHASE</td>\n",
       "      <td>₹1,415₹2,50043% off\\nFree delivery</td>\n",
       "      <td>by Lenskart Polarized, UV Protection Wayfarer ...</td>\n",
       "    </tr>\n",
       "    <tr>\n",
       "      <th>20</th>\n",
       "      <td>Fastrack</td>\n",
       "      <td>₹639₹89928% off\\nFree delivery</td>\n",
       "      <td>UV Protection Wayfarer Sunglasses (Free Size)</td>\n",
       "    </tr>\n",
       "    <tr>\n",
       "      <th>21</th>\n",
       "      <td>SRPM</td>\n",
       "      <td>₹199₹99980% off</td>\n",
       "      <td>Night Vision, UV Protection Round Sunglasses (54)</td>\n",
       "    </tr>\n",
       "    <tr>\n",
       "      <th>22</th>\n",
       "      <td>ROZZETTA CRAFT</td>\n",
       "      <td>₹331₹1,99983% off</td>\n",
       "      <td>UV Protection, Gradient Retro Square Sunglasse...</td>\n",
       "    </tr>\n",
       "    <tr>\n",
       "      <th>23</th>\n",
       "      <td>VILLAIN</td>\n",
       "      <td>₹1,099₹1,74937% off\\nFree delivery</td>\n",
       "      <td>Others Wayfarer Sunglasses (Free Size)</td>\n",
       "    </tr>\n",
       "    <tr>\n",
       "      <th>24</th>\n",
       "      <td>Silver Kartz</td>\n",
       "      <td>₹246₹1,49983% off</td>\n",
       "      <td>UV Protection Wayfarer Sunglasses (Free Size)</td>\n",
       "    </tr>\n",
       "    <tr>\n",
       "      <th>25</th>\n",
       "      <td>ROZZETTA CRAFT</td>\n",
       "      <td>₹342₹1,99982% off</td>\n",
       "      <td>UV Protection, Gradient Round Sunglasses (Free...</td>\n",
       "    </tr>\n",
       "    <tr>\n",
       "      <th>26</th>\n",
       "      <td>PIRASO</td>\n",
       "      <td>₹299₹2,59988% off</td>\n",
       "      <td>UV Protection Aviator Sunglasses (58)</td>\n",
       "    </tr>\n",
       "    <tr>\n",
       "      <th>27</th>\n",
       "      <td>VINCENT CHASE</td>\n",
       "      <td>₹1,533₹2,50038% off\\nFree delivery</td>\n",
       "      <td>by Lenskart Polarized, UV Protection Wayfarer ...</td>\n",
       "    </tr>\n",
       "    <tr>\n",
       "      <th>28</th>\n",
       "      <td>Fastrack</td>\n",
       "      <td>₹639₹79920% off\\nFree delivery</td>\n",
       "      <td>UV Protection Aviator Sunglasses (Free Size)</td>\n",
       "    </tr>\n",
       "    <tr>\n",
       "      <th>29</th>\n",
       "      <td>GANSTA</td>\n",
       "      <td>₹198₹1,79988% off</td>\n",
       "      <td>Night Vision, Riding Glasses Wayfarer Sunglass...</td>\n",
       "    </tr>\n",
       "    <tr>\n",
       "      <th>30</th>\n",
       "      <td>Lee Topper</td>\n",
       "      <td>₹299₹99970% off</td>\n",
       "      <td>UV Protection Round Sunglasses (Free Size)</td>\n",
       "    </tr>\n",
       "    <tr>\n",
       "      <th>31</th>\n",
       "      <td>ROZZETTA CRAFT</td>\n",
       "      <td>₹426₹2,22580% off</td>\n",
       "      <td>UV Protection, Riding Glasses Rectangular Sung...</td>\n",
       "    </tr>\n",
       "    <tr>\n",
       "      <th>32</th>\n",
       "      <td>Elligator</td>\n",
       "      <td>₹167₹1,49788% off</td>\n",
       "      <td>UV Protection Wayfarer Sunglasses (53)</td>\n",
       "    </tr>\n",
       "    <tr>\n",
       "      <th>33</th>\n",
       "      <td>Rich Club</td>\n",
       "      <td>₹220₹79972% off</td>\n",
       "      <td>UV Protection, Others Round Sunglasses (48)</td>\n",
       "    </tr>\n",
       "    <tr>\n",
       "      <th>34</th>\n",
       "      <td>ROZZETTA CRAFT</td>\n",
       "      <td>₹474₹2,22578% off</td>\n",
       "      <td>UV Protection Retro Square Sunglasses (Free Size)</td>\n",
       "    </tr>\n",
       "    <tr>\n",
       "      <th>35</th>\n",
       "      <td>AISLIN</td>\n",
       "      <td>₹611₹3,20080% off\\nFree delivery</td>\n",
       "      <td>UV Protection, Gradient Wayfarer, Round Sungla...</td>\n",
       "    </tr>\n",
       "    <tr>\n",
       "      <th>36</th>\n",
       "      <td>Johaena</td>\n",
       "      <td>₹156₹1,29987% off</td>\n",
       "      <td>Riding Glasses, UV Protection Oval Sunglasses ...</td>\n",
       "    </tr>\n",
       "    <tr>\n",
       "      <th>37</th>\n",
       "      <td>Lee Topper</td>\n",
       "      <td>₹281₹1,29978% off</td>\n",
       "      <td>UV Protection Cat-eye Sunglasses (Free Size)</td>\n",
       "    </tr>\n",
       "    <tr>\n",
       "      <th>38</th>\n",
       "      <td>Urbanic</td>\n",
       "      <td>₹419₹79046% off</td>\n",
       "      <td>Others Retro Square Sunglasses (Free Size)</td>\n",
       "    </tr>\n",
       "    <tr>\n",
       "      <th>39</th>\n",
       "      <td>VINCENT CHASE</td>\n",
       "      <td>₹1,179₹1,99941% off\\nFree delivery</td>\n",
       "      <td>by Lenskart UV Protection Wayfarer Sunglasses ...</td>\n",
       "    </tr>\n",
       "  </tbody>\n",
       "</table>\n",
       "</div>"
      ],
      "text/plain": [
       "             Brand                               Price  \\\n",
       "0   kingsunglasses                   ₹246₹1,99987% off   \n",
       "1         Fastrack    ₹999₹1,29923% off\\nFree delivery   \n",
       "2        ROYAL SON                   ₹359₹1,49976% off   \n",
       "3         elegante                   ₹389₹1,49974% off   \n",
       "4        New Specs                   ₹156₹1,59990% off   \n",
       "5         Fastrack      ₹639₹79920% off\\nFree delivery   \n",
       "6       PHENOMENAL                   ₹289₹1,99885% off   \n",
       "7    VINCENT CHASE  ₹1,179₹1,99941% off\\nFree delivery   \n",
       "8         Fastrack      ₹639₹79920% off\\nFree delivery   \n",
       "9        ROYAL SON    ₹664₹1,99966% off\\nFree delivery   \n",
       "10  ROZZETTA CRAFT                   ₹330₹2,25685% off   \n",
       "11    Singco India                     ₹229₹69967% off   \n",
       "12      Lee Topper                   ₹276₹2,49988% off   \n",
       "13          GANSTA                   ₹204₹1,04980% off   \n",
       "14       New Specs                   ₹175₹1,59989% off   \n",
       "15  ROZZETTA CRAFT    ₹616₹2,55575% off\\nFree delivery   \n",
       "16          PIRASO                   ₹299₹2,59988% off   \n",
       "17      PHENOMENAL                   ₹289₹1,99885% off   \n",
       "18        Poloport                   ₹236₹1,92087% off   \n",
       "19   VINCENT CHASE  ₹1,415₹2,50043% off\\nFree delivery   \n",
       "20        Fastrack      ₹639₹89928% off\\nFree delivery   \n",
       "21            SRPM                     ₹199₹99980% off   \n",
       "22  ROZZETTA CRAFT                   ₹331₹1,99983% off   \n",
       "23         VILLAIN  ₹1,099₹1,74937% off\\nFree delivery   \n",
       "24    Silver Kartz                   ₹246₹1,49983% off   \n",
       "25  ROZZETTA CRAFT                   ₹342₹1,99982% off   \n",
       "26          PIRASO                   ₹299₹2,59988% off   \n",
       "27   VINCENT CHASE  ₹1,533₹2,50038% off\\nFree delivery   \n",
       "28        Fastrack      ₹639₹79920% off\\nFree delivery   \n",
       "29          GANSTA                   ₹198₹1,79988% off   \n",
       "30      Lee Topper                     ₹299₹99970% off   \n",
       "31  ROZZETTA CRAFT                   ₹426₹2,22580% off   \n",
       "32       Elligator                   ₹167₹1,49788% off   \n",
       "33       Rich Club                     ₹220₹79972% off   \n",
       "34  ROZZETTA CRAFT                   ₹474₹2,22578% off   \n",
       "35          AISLIN    ₹611₹3,20080% off\\nFree delivery   \n",
       "36         Johaena                   ₹156₹1,29987% off   \n",
       "37      Lee Topper                   ₹281₹1,29978% off   \n",
       "38         Urbanic                     ₹419₹79046% off   \n",
       "39   VINCENT CHASE  ₹1,179₹1,99941% off\\nFree delivery   \n",
       "\n",
       "                                          Description  \n",
       "0    Mirrored, UV Protection Wayfarer Sunglasses (53)  \n",
       "1               UV Protection Aviator Sunglasses (58)  \n",
       "2             Mirrored Aviator Sunglasses (Free Size)  \n",
       "3           UV Protection Oval Sunglasses (Free Size)  \n",
       "4    UV Protection Rectangular Sunglasses (Free Size)  \n",
       "5       Polarized Retro Square Sunglasses (Free Size)  \n",
       "6   UV Protection, Mirrored Clubmaster Sunglasses ...  \n",
       "7   by Lenskart Polarized, UV Protection Wayfarer ...  \n",
       "8        UV Protection Aviator Sunglasses (Free Size)  \n",
       "9   UV Protection, Gradient Butterfly Sunglasses (57)  \n",
       "10  UV Protection, Gradient Rectangular Sunglasses...  \n",
       "11  UV Protection, Riding Glasses, Others Aviator,...  \n",
       "12  Riding Glasses, Night Vision Wrap-around Sungl...  \n",
       "13              UV Protection Aviator Sunglasses (57)  \n",
       "14       UV Protection Aviator Sunglasses (Free Size)  \n",
       "15       UV Protection Aviator Sunglasses (Free Size)  \n",
       "16              UV Protection Aviator Sunglasses (58)  \n",
       "17    UV Protection Clubmaster Sunglasses (Free Size)  \n",
       "18      UV Protection Wayfarer Sunglasses (Free Size)  \n",
       "19  by Lenskart Polarized, UV Protection Wayfarer ...  \n",
       "20      UV Protection Wayfarer Sunglasses (Free Size)  \n",
       "21  Night Vision, UV Protection Round Sunglasses (54)  \n",
       "22  UV Protection, Gradient Retro Square Sunglasse...  \n",
       "23             Others Wayfarer Sunglasses (Free Size)  \n",
       "24      UV Protection Wayfarer Sunglasses (Free Size)  \n",
       "25  UV Protection, Gradient Round Sunglasses (Free...  \n",
       "26              UV Protection Aviator Sunglasses (58)  \n",
       "27  by Lenskart Polarized, UV Protection Wayfarer ...  \n",
       "28       UV Protection Aviator Sunglasses (Free Size)  \n",
       "29  Night Vision, Riding Glasses Wayfarer Sunglass...  \n",
       "30         UV Protection Round Sunglasses (Free Size)  \n",
       "31  UV Protection, Riding Glasses Rectangular Sung...  \n",
       "32             UV Protection Wayfarer Sunglasses (53)  \n",
       "33        UV Protection, Others Round Sunglasses (48)  \n",
       "34  UV Protection Retro Square Sunglasses (Free Size)  \n",
       "35  UV Protection, Gradient Wayfarer, Round Sungla...  \n",
       "36  Riding Glasses, UV Protection Oval Sunglasses ...  \n",
       "37       UV Protection Cat-eye Sunglasses (Free Size)  \n",
       "38         Others Retro Square Sunglasses (Free Size)  \n",
       "39  by Lenskart UV Protection Wayfarer Sunglasses ...  "
      ]
     },
     "execution_count": 148,
     "metadata": {},
     "output_type": "execute_result"
    }
   ],
   "source": [
    "df3"
   ]
  },
  {
   "cell_type": "code",
   "execution_count": null,
   "id": "f9320afd",
   "metadata": {},
   "outputs": [],
   "source": []
  }
 ],
 "metadata": {
  "kernelspec": {
   "display_name": "Python 3",
   "language": "python",
   "name": "python3"
  },
  "language_info": {
   "codemirror_mode": {
    "name": "ipython",
    "version": 3
   },
   "file_extension": ".py",
   "mimetype": "text/x-python",
   "name": "python",
   "nbconvert_exporter": "python",
   "pygments_lexer": "ipython3",
   "version": "3.8.8"
  }
 },
 "nbformat": 4,
 "nbformat_minor": 5
}
