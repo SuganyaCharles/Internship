{
 "cells": [
  {
   "cell_type": "code",
   "execution_count": 1,
   "id": "e7122897",
   "metadata": {},
   "outputs": [
    {
     "name": "stdout",
     "output_type": "stream",
     "text": [
      "Requirement already satisfied: selenium in c:\\users\\acer\\anaconda3\\lib\\site-packages (4.1.0)\n",
      "Requirement already satisfied: trio-websocket~=0.9 in c:\\users\\acer\\anaconda3\\lib\\site-packages (from selenium) (0.9.2)\n",
      "Requirement already satisfied: trio~=0.17 in c:\\users\\acer\\anaconda3\\lib\\site-packages (from selenium) (0.19.0)\n",
      "Requirement already satisfied: urllib3[secure]~=1.26 in c:\\users\\acer\\anaconda3\\lib\\site-packages (from selenium) (1.26.4)\n",
      "Requirement already satisfied: attrs>=19.2.0 in c:\\users\\acer\\anaconda3\\lib\\site-packages (from trio~=0.17->selenium) (20.3.0)\n",
      "Requirement already satisfied: async-generator>=1.9 in c:\\users\\acer\\anaconda3\\lib\\site-packages (from trio~=0.17->selenium) (1.10)\n",
      "Requirement already satisfied: outcome in c:\\users\\acer\\anaconda3\\lib\\site-packages (from trio~=0.17->selenium) (1.1.0)\n",
      "Requirement already satisfied: cffi>=1.14 in c:\\users\\acer\\anaconda3\\lib\\site-packages (from trio~=0.17->selenium) (1.14.5)\n",
      "Requirement already satisfied: idna in c:\\users\\acer\\anaconda3\\lib\\site-packages (from trio~=0.17->selenium) (2.10)\n",
      "Requirement already satisfied: sortedcontainers in c:\\users\\acer\\anaconda3\\lib\\site-packages (from trio~=0.17->selenium) (2.3.0)\n",
      "Requirement already satisfied: sniffio in c:\\users\\acer\\anaconda3\\lib\\site-packages (from trio~=0.17->selenium) (1.2.0)\n",
      "Requirement already satisfied: pycparser in c:\\users\\acer\\anaconda3\\lib\\site-packages (from cffi>=1.14->trio~=0.17->selenium) (2.20)\n",
      "Requirement already satisfied: wsproto>=0.14 in c:\\users\\acer\\anaconda3\\lib\\site-packages (from trio-websocket~=0.9->selenium) (1.0.0)\n",
      "Requirement already satisfied: pyOpenSSL>=0.14 in c:\\users\\acer\\anaconda3\\lib\\site-packages (from urllib3[secure]~=1.26->selenium) (20.0.1)\n",
      "Requirement already satisfied: certifi in c:\\users\\acer\\anaconda3\\lib\\site-packages (from urllib3[secure]~=1.26->selenium) (2020.12.5)\n",
      "Requirement already satisfied: cryptography>=1.3.4 in c:\\users\\acer\\anaconda3\\lib\\site-packages (from urllib3[secure]~=1.26->selenium) (3.4.7)\n",
      "Requirement already satisfied: six>=1.5.2 in c:\\users\\acer\\anaconda3\\lib\\site-packages (from pyOpenSSL>=0.14->urllib3[secure]~=1.26->selenium) (1.15.0)\n",
      "Requirement already satisfied: h11<1,>=0.9.0 in c:\\users\\acer\\anaconda3\\lib\\site-packages (from wsproto>=0.14->trio-websocket~=0.9->selenium) (0.13.0)\n"
     ]
    }
   ],
   "source": [
    "!pip install selenium\n",
    "\n",
    "import selenium\n",
    "\n",
    "from selenium import webdriver\n",
    "import pandas as pd\n",
    "import warnings\n",
    "warnings.filterwarnings(\"ignore\")"
   ]
  },
  {
   "cell_type": "code",
   "execution_count": 2,
   "id": "dd072a27",
   "metadata": {},
   "outputs": [],
   "source": [
    "from selenium import webdriver\n",
    "\n",
    "path ='E:\\chromedriver.exe' \n",
    "driver = webdriver.Chrome(path)\n",
    "\n",
    "driver.get(\"https://www.ambitionbox.com/\")"
   ]
  },
  {
   "cell_type": "code",
   "execution_count": 3,
   "id": "e297ba69",
   "metadata": {},
   "outputs": [],
   "source": [
    "search_jobs=driver.find_element_by_xpath('//a[@class=\"link jobs\"]')"
   ]
  },
  {
   "cell_type": "code",
   "execution_count": 4,
   "id": "42736aa0",
   "metadata": {},
   "outputs": [],
   "source": [
    "search_jobs.click()"
   ]
  },
  {
   "cell_type": "code",
   "execution_count": 6,
   "id": "8994d812",
   "metadata": {},
   "outputs": [
    {
     "data": {
      "text/plain": [
       "<selenium.webdriver.remote.webelement.WebElement (session=\"f4ddb741e55a36ff65cac8980763cde1\", element=\"99a3fa3e-bbec-4dd4-9863-ffc444228f4c\")>"
      ]
     },
     "execution_count": 6,
     "metadata": {},
     "output_type": "execute_result"
    }
   ],
   "source": [
    "search=driver.find_element_by_xpath('//input[@class=\"input tt-input\"]')\n",
    "search"
   ]
  },
  {
   "cell_type": "code",
   "execution_count": 7,
   "id": "351f089b",
   "metadata": {},
   "outputs": [],
   "source": [
    "search.send_keys(\"Data Scientist\")"
   ]
  },
  {
   "cell_type": "code",
   "execution_count": 18,
   "id": "9bacb8f7",
   "metadata": {},
   "outputs": [
    {
     "data": {
      "text/plain": [
       "<selenium.webdriver.remote.webelement.WebElement (session=\"f4ddb741e55a36ff65cac8980763cde1\", element=\"14c930d8-e265-4886-bb89-49a01f4cb4c3\")>"
      ]
     },
     "execution_count": 18,
     "metadata": {},
     "output_type": "execute_result"
    }
   ],
   "source": [
    "search_button=driver.find_element_by_xpath('//button[@class=\"ab_btn search-btn round\"]')\n",
    "search_button"
   ]
  },
  {
   "cell_type": "code",
   "execution_count": 19,
   "id": "d224816d",
   "metadata": {},
   "outputs": [],
   "source": [
    "search_button.click()"
   ]
  },
  {
   "cell_type": "code",
   "execution_count": 20,
   "id": "da0383b3",
   "metadata": {},
   "outputs": [
    {
     "data": {
      "text/plain": [
       "<selenium.webdriver.remote.webelement.WebElement (session=\"f4ddb741e55a36ff65cac8980763cde1\", element=\"41c43b8a-d06c-4520-936c-6a6469cbda11\")>"
      ]
     },
     "execution_count": 20,
     "metadata": {},
     "output_type": "execute_result"
    }
   ],
   "source": [
    "search_loc=driver.find_element_by_xpath('//*[contains(@title,\"Location\")]')\n",
    "search_loc"
   ]
  },
  {
   "cell_type": "code",
   "execution_count": 21,
   "id": "a3feafd1",
   "metadata": {},
   "outputs": [],
   "source": [
    "search_loc.click()"
   ]
  },
  {
   "cell_type": "code",
   "execution_count": 24,
   "id": "0c231fab",
   "metadata": {},
   "outputs": [
    {
     "data": {
      "text/plain": [
       "<selenium.webdriver.remote.webelement.WebElement (session=\"f4ddb741e55a36ff65cac8980763cde1\", element=\"caa48132-3dcb-45a0-aa83-5d05c3059f37\")>"
      ]
     },
     "execution_count": 24,
     "metadata": {},
     "output_type": "execute_result"
    }
   ],
   "source": [
    "search_box=driver.find_element_by_xpath('/html/body/div/div/div/div[2]/div[2]/div[1]/div/div/div/div[2]/div[2]/div/div[2]/input')\n",
    "search_box"
   ]
  },
  {
   "cell_type": "code",
   "execution_count": 25,
   "id": "77eb8293",
   "metadata": {},
   "outputs": [],
   "source": [
    "search_box.send_keys('Noida')"
   ]
  },
  {
   "cell_type": "code",
   "execution_count": 28,
   "id": "b68fbf0a",
   "metadata": {},
   "outputs": [
    {
     "data": {
      "text/plain": [
       "<selenium.webdriver.remote.webelement.WebElement (session=\"f4ddb741e55a36ff65cac8980763cde1\", element=\"45c10bdc-6108-4daf-869c-78118ba857ec\")>"
      ]
     },
     "execution_count": 28,
     "metadata": {},
     "output_type": "execute_result"
    }
   ],
   "source": [
    "noida=driver.find_element_by_xpath('/html/body/div/div/div/div[2]/div[2]/div[1]/div/div/div/div[2]/div[2]/div/div[3]/div[1]/div[1]/div/label')\n",
    "noida"
   ]
  },
  {
   "cell_type": "code",
   "execution_count": 29,
   "id": "6ba9c110",
   "metadata": {},
   "outputs": [],
   "source": [
    "noida.click()"
   ]
  },
  {
   "cell_type": "code",
   "execution_count": 31,
   "id": "fa413d70",
   "metadata": {},
   "outputs": [
    {
     "data": {
      "text/plain": [
       "10"
      ]
     },
     "execution_count": 31,
     "metadata": {},
     "output_type": "execute_result"
    }
   ],
   "source": [
    "company_name=driver.find_elements_by_xpath('//p[@class=\"company body-medium\"]')\n",
    "len(company_name)"
   ]
  },
  {
   "cell_type": "code",
   "execution_count": 39,
   "id": "cbcff6ba",
   "metadata": {},
   "outputs": [
    {
     "data": {
      "text/plain": [
       "10"
      ]
     },
     "execution_count": 39,
     "metadata": {},
     "output_type": "execute_result"
    }
   ],
   "source": [
    "days=driver.find_elements_by_xpath('//span[1][@class=\"body-small-l\"]')\n",
    "len(days)"
   ]
  },
  {
   "cell_type": "code",
   "execution_count": 34,
   "id": "ff009871",
   "metadata": {},
   "outputs": [
    {
     "data": {
      "text/plain": [
       "10"
      ]
     },
     "execution_count": 34,
     "metadata": {},
     "output_type": "execute_result"
    }
   ],
   "source": [
    "rating=driver.find_elements_by_xpath('//span[@class=\"body-small\"]')\n",
    "len(rating)"
   ]
  },
  {
   "cell_type": "code",
   "execution_count": 35,
   "id": "3e54e9c3",
   "metadata": {},
   "outputs": [
    {
     "data": {
      "text/plain": [
       "10"
      ]
     },
     "execution_count": 35,
     "metadata": {},
     "output_type": "execute_result"
    }
   ],
   "source": [
    "Company=[]\n",
    "\n",
    "for i in company_name:\n",
    "    Company.append(i.text)\n",
    "    \n",
    "len(Company)"
   ]
  },
  {
   "cell_type": "code",
   "execution_count": 40,
   "id": "e013a818",
   "metadata": {},
   "outputs": [
    {
     "data": {
      "text/plain": [
       "[<selenium.webdriver.remote.webelement.WebElement (session=\"f4ddb741e55a36ff65cac8980763cde1\", element=\"a3cee121-7f54-4187-9105-944b6c73b0c6\")>,\n",
       " <selenium.webdriver.remote.webelement.WebElement (session=\"f4ddb741e55a36ff65cac8980763cde1\", element=\"345f1a1a-475b-4f43-8776-5436303da0ab\")>,\n",
       " <selenium.webdriver.remote.webelement.WebElement (session=\"f4ddb741e55a36ff65cac8980763cde1\", element=\"81a759cc-4e78-4fad-8758-ba5cdbb2abbc\")>,\n",
       " <selenium.webdriver.remote.webelement.WebElement (session=\"f4ddb741e55a36ff65cac8980763cde1\", element=\"a24b5210-53f6-4e6d-b8e2-47fbf04d3392\")>,\n",
       " <selenium.webdriver.remote.webelement.WebElement (session=\"f4ddb741e55a36ff65cac8980763cde1\", element=\"e6c4281e-4525-4b79-a1d8-feba779a15e4\")>,\n",
       " <selenium.webdriver.remote.webelement.WebElement (session=\"f4ddb741e55a36ff65cac8980763cde1\", element=\"9ef93ad5-eccb-4f58-bd50-4a9516e46ab6\")>,\n",
       " <selenium.webdriver.remote.webelement.WebElement (session=\"f4ddb741e55a36ff65cac8980763cde1\", element=\"3d7ada91-fd35-4a3f-ad63-ffa53bf6d8ba\")>,\n",
       " <selenium.webdriver.remote.webelement.WebElement (session=\"f4ddb741e55a36ff65cac8980763cde1\", element=\"c8035e64-5117-471c-9572-66a92a176f7d\")>,\n",
       " <selenium.webdriver.remote.webelement.WebElement (session=\"f4ddb741e55a36ff65cac8980763cde1\", element=\"41e034ee-99b2-4c40-a5f3-0f94f37b56bc\")>,\n",
       " <selenium.webdriver.remote.webelement.WebElement (session=\"f4ddb741e55a36ff65cac8980763cde1\", element=\"9c0c7426-46f1-4e2d-ac72-46cc8d912141\")>]"
      ]
     },
     "execution_count": 40,
     "metadata": {},
     "output_type": "execute_result"
    }
   ],
   "source": [
    "days"
   ]
  },
  {
   "cell_type": "code",
   "execution_count": 41,
   "id": "978cce75",
   "metadata": {},
   "outputs": [
    {
     "data": {
      "text/plain": [
       "10"
      ]
     },
     "execution_count": 41,
     "metadata": {},
     "output_type": "execute_result"
    }
   ],
   "source": [
    "days_ago=[]\n",
    "\n",
    "for i in days:\n",
    "    days_ago.append(i.text)\n",
    "    \n",
    "len(days_ago)"
   ]
  },
  {
   "cell_type": "code",
   "execution_count": 42,
   "id": "a8e0c924",
   "metadata": {},
   "outputs": [
    {
     "data": {
      "text/plain": [
       "10"
      ]
     },
     "execution_count": 42,
     "metadata": {},
     "output_type": "execute_result"
    }
   ],
   "source": [
    "ratings=[]\n",
    "\n",
    "for i in rating:\n",
    "    ratings.append(i.text)\n",
    "    \n",
    "len(ratings)"
   ]
  },
  {
   "cell_type": "code",
   "execution_count": 43,
   "id": "5a2fb95c",
   "metadata": {},
   "outputs": [
    {
     "data": {
      "text/html": [
       "<div>\n",
       "<style scoped>\n",
       "    .dataframe tbody tr th:only-of-type {\n",
       "        vertical-align: middle;\n",
       "    }\n",
       "\n",
       "    .dataframe tbody tr th {\n",
       "        vertical-align: top;\n",
       "    }\n",
       "\n",
       "    .dataframe thead th {\n",
       "        text-align: right;\n",
       "    }\n",
       "</style>\n",
       "<table border=\"1\" class=\"dataframe\">\n",
       "  <thead>\n",
       "    <tr style=\"text-align: right;\">\n",
       "      <th></th>\n",
       "      <th>Company_Name</th>\n",
       "      <th>No_of_Days_ago_job_posted</th>\n",
       "      <th>Ratings_of_The_Company</th>\n",
       "    </tr>\n",
       "  </thead>\n",
       "  <tbody>\n",
       "    <tr>\n",
       "      <th>0</th>\n",
       "      <td>Jubilant Foodworks Limited</td>\n",
       "      <td>14d ago</td>\n",
       "      <td>3.9</td>\n",
       "    </tr>\n",
       "    <tr>\n",
       "      <th>1</th>\n",
       "      <td>HCL Technologies</td>\n",
       "      <td>27d ago</td>\n",
       "      <td>3.8</td>\n",
       "    </tr>\n",
       "    <tr>\n",
       "      <th>2</th>\n",
       "      <td>EY GDS</td>\n",
       "      <td>28d ago</td>\n",
       "      <td>3.7</td>\n",
       "    </tr>\n",
       "    <tr>\n",
       "      <th>3</th>\n",
       "      <td>Tavant Technologies India Pvt. Ltd.</td>\n",
       "      <td>8d ago</td>\n",
       "      <td>4.0</td>\n",
       "    </tr>\n",
       "    <tr>\n",
       "      <th>4</th>\n",
       "      <td>Denave India Pvt Ltd.</td>\n",
       "      <td>8d ago</td>\n",
       "      <td>4.0</td>\n",
       "    </tr>\n",
       "    <tr>\n",
       "      <th>5</th>\n",
       "      <td>EXL Service</td>\n",
       "      <td>21d ago</td>\n",
       "      <td>3.8</td>\n",
       "    </tr>\n",
       "    <tr>\n",
       "      <th>6</th>\n",
       "      <td>CHT Sapiense</td>\n",
       "      <td>2d ago</td>\n",
       "      <td>3.8</td>\n",
       "    </tr>\n",
       "    <tr>\n",
       "      <th>7</th>\n",
       "      <td>Pitney Bowes India Pvt ltd</td>\n",
       "      <td>28d ago</td>\n",
       "      <td>4.2</td>\n",
       "    </tr>\n",
       "    <tr>\n",
       "      <th>8</th>\n",
       "      <td>Zyoin</td>\n",
       "      <td>6d ago</td>\n",
       "      <td>4.1</td>\n",
       "    </tr>\n",
       "    <tr>\n",
       "      <th>9</th>\n",
       "      <td>Ameriprise Financial</td>\n",
       "      <td>1mon ago</td>\n",
       "      <td>4.0</td>\n",
       "    </tr>\n",
       "  </tbody>\n",
       "</table>\n",
       "</div>"
      ],
      "text/plain": [
       "                          Company_Name No_of_Days_ago_job_posted  \\\n",
       "0           Jubilant Foodworks Limited                   14d ago   \n",
       "1                     HCL Technologies                   27d ago   \n",
       "2                               EY GDS                   28d ago   \n",
       "3  Tavant Technologies India Pvt. Ltd.                    8d ago   \n",
       "4                Denave India Pvt Ltd.                    8d ago   \n",
       "5                          EXL Service                   21d ago   \n",
       "6                         CHT Sapiense                    2d ago   \n",
       "7           Pitney Bowes India Pvt ltd                   28d ago   \n",
       "8                                Zyoin                    6d ago   \n",
       "9                 Ameriprise Financial                  1mon ago   \n",
       "\n",
       "  Ratings_of_The_Company  \n",
       "0                    3.9  \n",
       "1                    3.8  \n",
       "2                    3.7  \n",
       "3                    4.0  \n",
       "4                    4.0  \n",
       "5                    3.8  \n",
       "6                    3.8  \n",
       "7                    4.2  \n",
       "8                    4.1  \n",
       "9                    4.0  "
      ]
     },
     "execution_count": 43,
     "metadata": {},
     "output_type": "execute_result"
    }
   ],
   "source": [
    "df=pd.DataFrame({'Company_Name':Company,'No_of_Days_ago_job_posted':days_ago,'Ratings_of_The_Company':ratings})\n",
    "df"
   ]
  },
  {
   "cell_type": "code",
   "execution_count": null,
   "id": "11568171",
   "metadata": {},
   "outputs": [],
   "source": []
  }
 ],
 "metadata": {
  "kernelspec": {
   "display_name": "Python 3",
   "language": "python",
   "name": "python3"
  },
  "language_info": {
   "codemirror_mode": {
    "name": "ipython",
    "version": 3
   },
   "file_extension": ".py",
   "mimetype": "text/x-python",
   "name": "python",
   "nbconvert_exporter": "python",
   "pygments_lexer": "ipython3",
   "version": "3.8.8"
  }
 },
 "nbformat": 4,
 "nbformat_minor": 5
}
